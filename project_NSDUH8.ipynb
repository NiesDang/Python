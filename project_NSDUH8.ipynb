{
 "cells": [
  {
   "cell_type": "code",
   "execution_count": 6,
   "metadata": {},
   "outputs": [],
   "source": [
    "import pandas as pd\n",
    "import numpy as np\n",
    "import matplotlib.pyplot as plt\n",
    "import seaborn as sns\n",
    "from collections import Counter\n",
    "\n",
    "%matplotlib inline"
   ]
  },
  {
   "cell_type": "code",
   "execution_count": null,
   "metadata": {},
   "outputs": [],
   "source": []
  },
  {
   "cell_type": "code",
   "execution_count": 7,
   "metadata": {},
   "outputs": [
    {
     "name": "stderr",
     "output_type": "stream",
     "text": [
      "C:\\Users\\tn09t\\AppData\\Local\\Temp\\ipykernel_21324\\3146097231.py:2: DtypeWarning: Columns (2799) have mixed types. Specify dtype option on import or set low_memory=False.\n",
      "  df21 = pd.read_csv('NSDUH_2021_Tab.csv',sep = '\t')\n"
     ]
    },
    {
     "name": "stdout",
     "output_type": "stream",
     "text": [
      "<class 'pandas.core.frame.DataFrame'>\n",
      "RangeIndex: 58034 entries, 0 to 58033\n",
      "Columns: 2995 entries, QUESTID2 to VEREP\n",
      "dtypes: float64(540), int64(2453), object(2)\n",
      "memory usage: 1.3+ GB\n"
     ]
    }
   ],
   "source": [
    "#load dataset drug\n",
    "df21 = pd.read_csv('NSDUH_2021_Tab.csv',sep = '\t')\n",
    "df21.info()"
   ]
  },
  {
   "cell_type": "code",
   "execution_count": 8,
   "metadata": {},
   "outputs": [
    {
     "name": "stderr",
     "output_type": "stream",
     "text": [
      "C:\\Users\\tn09t\\AppData\\Local\\Temp\\ipykernel_21324\\3845464566.py:2: DtypeWarning: Columns (2604) have mixed types. Specify dtype option on import or set low_memory=False.\n",
      "  df22 = pd.read_csv('NSDUH_2022_Tab.csv',sep = '\t')\n"
     ]
    },
    {
     "name": "stdout",
     "output_type": "stream",
     "text": [
      "<class 'pandas.core.frame.DataFrame'>\n",
      "RangeIndex: 50510 entries, 0 to 50509\n",
      "Columns: 2605 entries, QUESTID2 to GQTYPE2\n",
      "dtypes: float64(427), int64(2176), object(2)\n",
      "memory usage: 1003.9+ MB\n"
     ]
    }
   ],
   "source": [
    "#load dataset drug\n",
    "df22 = pd.read_csv('NSDUH_2022_Tab.csv',sep = '\t')\n",
    "df22.info()"
   ]
  },
  {
   "cell_type": "code",
   "execution_count": 9,
   "metadata": {},
   "outputs": [
    {
     "name": "stderr",
     "output_type": "stream",
     "text": [
      "C:\\Users\\tn09t\\AppData\\Local\\Temp\\ipykernel_21324\\898225204.py:2: DtypeWarning: Columns (2726) have mixed types. Specify dtype option on import or set low_memory=False.\n",
      "  df20 = pd.read_csv('NSDUH_2020_Tab.csv',sep = '\t')\n"
     ]
    },
    {
     "name": "stdout",
     "output_type": "stream",
     "text": [
      "<class 'pandas.core.frame.DataFrame'>\n",
      "RangeIndex: 32893 entries, 0 to 32892\n",
      "Columns: 2890 entries, QUESTID2 to VEREP\n",
      "dtypes: float64(429), int64(2459), object(2)\n",
      "memory usage: 725.3+ MB\n"
     ]
    }
   ],
   "source": [
    "#load dataset drug\n",
    "df20 = pd.read_csv('NSDUH_2020_Tab.csv',sep = '\t')\n",
    "df20.info()"
   ]
  },
  {
   "cell_type": "code",
   "execution_count": 10,
   "metadata": {},
   "outputs": [
    {
     "name": "stderr",
     "output_type": "stream",
     "text": [
      "C:\\Users\\tn09t\\AppData\\Local\\Temp\\ipykernel_21324\\1205317429.py:1: DtypeWarning: Columns (2575) have mixed types. Specify dtype option on import or set low_memory=False.\n",
      "  df19 = pd.read_csv('NSDUH_2019_Tab.csv',sep = '\t'  )\n"
     ]
    },
    {
     "name": "stdout",
     "output_type": "stream",
     "text": [
      "<class 'pandas.core.frame.DataFrame'>\n",
      "RangeIndex: 56136 entries, 0 to 56135\n",
      "Columns: 2741 entries, QUESTID2 to VEREP\n",
      "dtypes: float64(407), int64(2332), object(2)\n",
      "memory usage: 1.1+ GB\n"
     ]
    }
   ],
   "source": [
    "df19 = pd.read_csv('NSDUH_2019_Tab.csv',sep = '\t'  )\n",
    "df19.info()"
   ]
  },
  {
   "cell_type": "code",
   "execution_count": 11,
   "metadata": {},
   "outputs": [
    {
     "name": "stderr",
     "output_type": "stream",
     "text": [
      "C:\\Users\\tn09t\\AppData\\Local\\Temp\\ipykernel_21324\\4267850300.py:1: DtypeWarning: Columns (2525) have mixed types. Specify dtype option on import or set low_memory=False.\n",
      "  df18 = pd.read_csv('NSDUH_2018_Tab.csv',sep = '\t'  )\n"
     ]
    },
    {
     "name": "stdout",
     "output_type": "stream",
     "text": [
      "<class 'pandas.core.frame.DataFrame'>\n",
      "RangeIndex: 56313 entries, 0 to 56312\n",
      "Columns: 2691 entries, QUESTID2 to VEREP\n",
      "dtypes: float64(408), int64(2281), object(2)\n",
      "memory usage: 1.1+ GB\n"
     ]
    }
   ],
   "source": [
    "df18 = pd.read_csv('NSDUH_2018_Tab.csv',sep = '\t'  )\n",
    "df18.info()"
   ]
  },
  {
   "cell_type": "code",
   "execution_count": 12,
   "metadata": {},
   "outputs": [
    {
     "name": "stderr",
     "output_type": "stream",
     "text": [
      "C:\\Users\\tn09t\\AppData\\Local\\Temp\\ipykernel_21324\\2907571387.py:1: DtypeWarning: Columns (2502) have mixed types. Specify dtype option on import or set low_memory=False.\n",
      "  df17 = pd.read_csv('NSDUH_2017_Tab.csv',sep = '\t' )\n"
     ]
    },
    {
     "name": "stdout",
     "output_type": "stream",
     "text": [
      "<class 'pandas.core.frame.DataFrame'>\n",
      "RangeIndex: 56276 entries, 0 to 56275\n",
      "Columns: 2668 entries, QUESTID2 to VEREP\n",
      "dtypes: float64(407), int64(2259), object(2)\n",
      "memory usage: 1.1+ GB\n"
     ]
    }
   ],
   "source": [
    "df17 = pd.read_csv('NSDUH_2017_Tab.csv',sep = '\t' )\n",
    "df17.info()"
   ]
  },
  {
   "cell_type": "code",
   "execution_count": 13,
   "metadata": {},
   "outputs": [
    {
     "name": "stderr",
     "output_type": "stream",
     "text": [
      "C:\\Users\\tn09t\\AppData\\Local\\Temp\\ipykernel_21324\\2161852738.py:1: DtypeWarning: Columns (2506) have mixed types. Specify dtype option on import or set low_memory=False.\n",
      "  df16 = pd.read_csv('NSDUH_2016_Tab.csv',sep = '\t' )\n"
     ]
    },
    {
     "name": "stdout",
     "output_type": "stream",
     "text": [
      "<class 'pandas.core.frame.DataFrame'>\n",
      "RangeIndex: 56897 entries, 0 to 56896\n",
      "Columns: 2668 entries, QUESTID2 to VEREP\n",
      "dtypes: float64(409), int64(2257), object(2)\n",
      "memory usage: 1.1+ GB\n"
     ]
    }
   ],
   "source": [
    "df16 = pd.read_csv('NSDUH_2016_Tab.csv',sep = '\t' )\n",
    "df16.info()"
   ]
  },
  {
   "cell_type": "code",
   "execution_count": 14,
   "metadata": {},
   "outputs": [
    {
     "name": "stderr",
     "output_type": "stream",
     "text": [
      "C:\\Users\\tn09t\\AppData\\Local\\Temp\\ipykernel_21324\\2106065787.py:1: DtypeWarning: Columns (2514) have mixed types. Specify dtype option on import or set low_memory=False.\n",
      "  df15 = pd.read_csv('NSDUH_2015_Tab.csv',sep = '\t' )\n"
     ]
    },
    {
     "name": "stdout",
     "output_type": "stream",
     "text": [
      "<class 'pandas.core.frame.DataFrame'>\n",
      "RangeIndex: 57146 entries, 0 to 57145\n",
      "Columns: 2679 entries, QUESTID2 to VEREP\n",
      "dtypes: float64(408), int64(2269), object(2)\n",
      "memory usage: 1.1+ GB\n"
     ]
    }
   ],
   "source": [
    "df15 = pd.read_csv('NSDUH_2015_Tab.csv',sep = '\t' )\n",
    "df15.info()"
   ]
  },
  {
   "cell_type": "code",
   "execution_count": 15,
   "metadata": {},
   "outputs": [
    {
     "name": "stderr",
     "output_type": "stream",
     "text": [
      "C:\\Users\\tn09t\\AppData\\Local\\Temp\\ipykernel_21324\\59712587.py:1: DtypeWarning: Columns (2946) have mixed types. Specify dtype option on import or set low_memory=False.\n",
      "  df14 = pd.read_csv('NSDUH_2014_Tab.csv',sep = '\t' )\n"
     ]
    },
    {
     "name": "stdout",
     "output_type": "stream",
     "text": [
      "<class 'pandas.core.frame.DataFrame'>\n",
      "RangeIndex: 55271 entries, 0 to 55270\n",
      "Columns: 3034 entries, QUESTID2 to VEREP\n",
      "dtypes: float64(519), int64(2513), object(2)\n",
      "memory usage: 1.2+ GB\n"
     ]
    }
   ],
   "source": [
    "df14 = pd.read_csv('NSDUH_2014_Tab.csv',sep = '\t' )\n",
    "df14.info()"
   ]
  },
  {
   "cell_type": "code",
   "execution_count": 16,
   "metadata": {},
   "outputs": [
    {
     "name": "stderr",
     "output_type": "stream",
     "text": [
      "C:\\Users\\tn09t\\AppData\\Local\\Temp\\ipykernel_21324\\500310104.py:1: DtypeWarning: Columns (2954) have mixed types. Specify dtype option on import or set low_memory=False.\n",
      "  df13 = pd.read_csv('NSDUH_2013_Tab.csv',sep = '\t' )\n"
     ]
    },
    {
     "name": "stdout",
     "output_type": "stream",
     "text": [
      "<class 'pandas.core.frame.DataFrame'>\n",
      "RangeIndex: 55160 entries, 0 to 55159\n",
      "Columns: 3040 entries, QUESTID2 to VEREP\n",
      "dtypes: float64(526), int64(2512), object(2)\n",
      "memory usage: 1.2+ GB\n"
     ]
    }
   ],
   "source": [
    "df13 = pd.read_csv('NSDUH_2013_Tab.csv',sep = '\t' )\n",
    "df13.info()"
   ]
  },
  {
   "cell_type": "code",
   "execution_count": 17,
   "metadata": {},
   "outputs": [
    {
     "name": "stderr",
     "output_type": "stream",
     "text": [
      "C:\\Users\\tn09t\\AppData\\Local\\Temp\\ipykernel_21324\\1702412959.py:1: DtypeWarning: Columns (2975) have mixed types. Specify dtype option on import or set low_memory=False.\n",
      "  df12 = pd.read_csv('NSDUH_2012_Tab.csv',sep = '\t' )\n"
     ]
    },
    {
     "name": "stdout",
     "output_type": "stream",
     "text": [
      "<class 'pandas.core.frame.DataFrame'>\n",
      "RangeIndex: 55268 entries, 0 to 55267\n",
      "Columns: 3054 entries, QUESTID2 to VEREP\n",
      "dtypes: float64(561), int64(2491), object(2)\n",
      "memory usage: 1.3+ GB\n"
     ]
    }
   ],
   "source": [
    "df12 = pd.read_csv('NSDUH_2012_Tab.csv',sep = '\t' )\n",
    "df12.info()"
   ]
  },
  {
   "cell_type": "code",
   "execution_count": 18,
   "metadata": {},
   "outputs": [
    {
     "name": "stderr",
     "output_type": "stream",
     "text": [
      "C:\\Users\\tn09t\\AppData\\Local\\Temp\\ipykernel_21324\\1177881976.py:1: DtypeWarning: Columns (2947) have mixed types. Specify dtype option on import or set low_memory=False.\n",
      "  df11 = pd.read_csv('NSDUH_2011_Tab.csv',sep = '\t' )\n"
     ]
    },
    {
     "name": "stdout",
     "output_type": "stream",
     "text": [
      "<class 'pandas.core.frame.DataFrame'>\n",
      "RangeIndex: 58397 entries, 0 to 58396\n",
      "Columns: 3026 entries, QUESTID2 to VEREP\n",
      "dtypes: float64(537), int64(2487), object(2)\n",
      "memory usage: 1.3+ GB\n"
     ]
    }
   ],
   "source": [
    "df11 = pd.read_csv('NSDUH_2011_Tab.csv',sep = '\t' )\n",
    "df11.info()"
   ]
  },
  {
   "cell_type": "code",
   "execution_count": 3,
   "metadata": {},
   "outputs": [
    {
     "name": "stdout",
     "output_type": "stream",
     "text": [
      "<class 'pandas.core.frame.DataFrame'>\n",
      "RangeIndex: 57313 entries, 0 to 57312\n",
      "Columns: 3033 entries, QUESTID2 to VEREP\n",
      "dtypes: float64(540), int64(2491), object(2)\n",
      "memory usage: 1.3+ GB\n"
     ]
    }
   ],
   "source": [
    "df10 = pd.read_csv('NSDUH_2010_Tab.csv',sep = '\t' )\n",
    "df10.info()"
   ]
  },
  {
   "cell_type": "code",
   "execution_count": 32,
   "metadata": {},
   "outputs": [
    {
     "data": {
      "text/plain": [
       "0         2\n",
       "1        91\n",
       "2        91\n",
       "3         1\n",
       "4        91\n",
       "         ..\n",
       "58029    93\n",
       "58030    93\n",
       "58031     2\n",
       "58032    93\n",
       "58033    91\n",
       "Name: UDMJLRGAMTS, Length: 58034, dtype: int64"
      ]
     },
     "execution_count": 32,
     "metadata": {},
     "output_type": "execute_result"
    }
   ],
   "source": [
    "age_column = df21['UDMJLRGAMTS']\n",
    "age_column"
   ]
  },
  {
   "cell_type": "code",
   "execution_count": null,
   "metadata": {},
   "outputs": [],
   "source": []
  }
 ],
 "metadata": {
  "kernelspec": {
   "display_name": "base",
   "language": "python",
   "name": "python3"
  },
  "language_info": {
   "codemirror_mode": {
    "name": "ipython",
    "version": 3
   },
   "file_extension": ".py",
   "mimetype": "text/x-python",
   "name": "python",
   "nbconvert_exporter": "python",
   "pygments_lexer": "ipython3",
   "version": "3.11.5"
  }
 },
 "nbformat": 4,
 "nbformat_minor": 2
}
