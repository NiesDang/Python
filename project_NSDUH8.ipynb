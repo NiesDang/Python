{
 "cells": [
  {
   "cell_type": "code",
   "execution_count": 57,
   "metadata": {},
   "outputs": [],
   "source": [
    "import pandas as pd\n",
    "import numpy as np\n",
    "import matplotlib.pyplot as plt\n",
    "import seaborn as sns\n",
    "from collections import Counter\n",
    "\n",
    "%matplotlib inline"
   ]
  },
  {
   "cell_type": "code",
   "execution_count": null,
   "metadata": {},
   "outputs": [],
   "source": []
  },
  {
   "cell_type": "code",
   "execution_count": 95,
   "metadata": {},
   "outputs": [
    {
     "name": "stderr",
     "output_type": "stream",
     "text": [
      "C:\\Users\\tn09t\\AppData\\Local\\Temp\\ipykernel_16820\\3146097231.py:2: DtypeWarning: Columns (2799) have mixed types. Specify dtype option on import or set low_memory=False.\n",
      "  df21 = pd.read_csv('NSDUH_2021_Tab.csv',sep = '\t')\n"
     ]
    },
    {
     "name": "stdout",
     "output_type": "stream",
     "text": [
      "<class 'pandas.core.frame.DataFrame'>\n",
      "RangeIndex: 58034 entries, 0 to 58033\n",
      "Columns: 2995 entries, QUESTID2 to VEREP\n",
      "dtypes: float64(540), int64(2453), object(2)\n",
      "memory usage: 1.3+ GB\n"
     ]
    }
   ],
   "source": [
    "#load dataset drug\n",
    "df21 = pd.read_csv('NSDUH_2021_Tab.csv',sep = '\t')\n",
    "df21.info()"
   ]
  },
  {
   "cell_type": "code",
   "execution_count": 94,
   "metadata": {},
   "outputs": [
    {
     "name": "stderr",
     "output_type": "stream",
     "text": [
      "C:\\Users\\tn09t\\AppData\\Local\\Temp\\ipykernel_16820\\3845464566.py:2: DtypeWarning: Columns (2604) have mixed types. Specify dtype option on import or set low_memory=False.\n",
      "  df22 = pd.read_csv('NSDUH_2022_Tab.csv',sep = '\t')\n"
     ]
    },
    {
     "name": "stdout",
     "output_type": "stream",
     "text": [
      "<class 'pandas.core.frame.DataFrame'>\n",
      "RangeIndex: 50510 entries, 0 to 50509\n",
      "Columns: 2605 entries, QUESTID2 to GQTYPE2\n",
      "dtypes: float64(427), int64(2176), object(2)\n",
      "memory usage: 1003.9+ MB\n"
     ]
    }
   ],
   "source": [
    "#load dataset drug\n",
    "df22 = pd.read_csv('NSDUH_2022_Tab.csv',sep = '\t')\n",
    "df22.info()"
   ]
  },
  {
   "cell_type": "code",
   "execution_count": 47,
   "metadata": {},
   "outputs": [
    {
     "name": "stderr",
     "output_type": "stream",
     "text": [
      "C:\\Users\\tn09t\\AppData\\Local\\Temp\\ipykernel_16820\\898225204.py:2: DtypeWarning: Columns (2726) have mixed types. Specify dtype option on import or set low_memory=False.\n",
      "  df20 = pd.read_csv('NSDUH_2020_Tab.csv',sep = '\t')\n"
     ]
    },
    {
     "name": "stdout",
     "output_type": "stream",
     "text": [
      "<class 'pandas.core.frame.DataFrame'>\n",
      "RangeIndex: 32893 entries, 0 to 32892\n",
      "Columns: 2890 entries, QUESTID2 to VEREP\n",
      "dtypes: float64(429), int64(2459), object(2)\n",
      "memory usage: 725.3+ MB\n"
     ]
    }
   ],
   "source": [
    "#load dataset drug\n",
    "df20 = pd.read_csv('NSDUH_2020_Tab.csv',sep = '\t')\n",
    "df20.info()"
   ]
  },
  {
   "cell_type": "code",
   "execution_count": 48,
   "metadata": {},
   "outputs": [
    {
     "name": "stderr",
     "output_type": "stream",
     "text": [
      "C:\\Users\\tn09t\\AppData\\Local\\Temp\\ipykernel_16820\\1205317429.py:1: DtypeWarning: Columns (2575) have mixed types. Specify dtype option on import or set low_memory=False.\n",
      "  df19 = pd.read_csv('NSDUH_2019_Tab.csv',sep = '\t'  )\n"
     ]
    },
    {
     "name": "stdout",
     "output_type": "stream",
     "text": [
      "<class 'pandas.core.frame.DataFrame'>\n",
      "RangeIndex: 56136 entries, 0 to 56135\n",
      "Columns: 2741 entries, QUESTID2 to VEREP\n",
      "dtypes: float64(407), int64(2332), object(2)\n",
      "memory usage: 1.1+ GB\n"
     ]
    }
   ],
   "source": [
    "df19 = pd.read_csv('NSDUH_2019_Tab.csv',sep = '\t'  )\n",
    "df19.info()"
   ]
  },
  {
   "cell_type": "code",
   "execution_count": 49,
   "metadata": {},
   "outputs": [
    {
     "name": "stderr",
     "output_type": "stream",
     "text": [
      "C:\\Users\\tn09t\\AppData\\Local\\Temp\\ipykernel_16820\\4267850300.py:1: DtypeWarning: Columns (2525) have mixed types. Specify dtype option on import or set low_memory=False.\n",
      "  df18 = pd.read_csv('NSDUH_2018_Tab.csv',sep = '\t'  )\n"
     ]
    },
    {
     "name": "stdout",
     "output_type": "stream",
     "text": [
      "<class 'pandas.core.frame.DataFrame'>\n",
      "RangeIndex: 56313 entries, 0 to 56312\n",
      "Columns: 2691 entries, QUESTID2 to VEREP\n",
      "dtypes: float64(408), int64(2281), object(2)\n",
      "memory usage: 1.1+ GB\n"
     ]
    }
   ],
   "source": [
    "df18 = pd.read_csv('NSDUH_2018_Tab.csv',sep = '\t'  )\n",
    "df18.info()"
   ]
  },
  {
   "cell_type": "code",
   "execution_count": 50,
   "metadata": {},
   "outputs": [
    {
     "name": "stderr",
     "output_type": "stream",
     "text": [
      "C:\\Users\\tn09t\\AppData\\Local\\Temp\\ipykernel_16820\\2907571387.py:1: DtypeWarning: Columns (2502) have mixed types. Specify dtype option on import or set low_memory=False.\n",
      "  df17 = pd.read_csv('NSDUH_2017_Tab.csv',sep = '\t' )\n"
     ]
    },
    {
     "name": "stdout",
     "output_type": "stream",
     "text": [
      "<class 'pandas.core.frame.DataFrame'>\n",
      "RangeIndex: 56276 entries, 0 to 56275\n",
      "Columns: 2668 entries, QUESTID2 to VEREP\n",
      "dtypes: float64(407), int64(2259), object(2)\n",
      "memory usage: 1.1+ GB\n"
     ]
    }
   ],
   "source": [
    "df17 = pd.read_csv('NSDUH_2017_Tab.csv',sep = '\t' )\n",
    "df17.info()"
   ]
  },
  {
   "cell_type": "code",
   "execution_count": 51,
   "metadata": {},
   "outputs": [
    {
     "name": "stderr",
     "output_type": "stream",
     "text": [
      "C:\\Users\\tn09t\\AppData\\Local\\Temp\\ipykernel_16820\\2161852738.py:1: DtypeWarning: Columns (2506) have mixed types. Specify dtype option on import or set low_memory=False.\n",
      "  df16 = pd.read_csv('NSDUH_2016_Tab.csv',sep = '\t' )\n"
     ]
    },
    {
     "name": "stdout",
     "output_type": "stream",
     "text": [
      "<class 'pandas.core.frame.DataFrame'>\n",
      "RangeIndex: 56897 entries, 0 to 56896\n",
      "Columns: 2668 entries, QUESTID2 to VEREP\n",
      "dtypes: float64(409), int64(2257), object(2)\n",
      "memory usage: 1.1+ GB\n"
     ]
    }
   ],
   "source": [
    "df16 = pd.read_csv('NSDUH_2016_Tab.csv',sep = '\t' )\n",
    "df16.info()"
   ]
  },
  {
   "cell_type": "code",
   "execution_count": 52,
   "metadata": {},
   "outputs": [
    {
     "name": "stderr",
     "output_type": "stream",
     "text": [
      "C:\\Users\\tn09t\\AppData\\Local\\Temp\\ipykernel_16820\\2106065787.py:1: DtypeWarning: Columns (2514) have mixed types. Specify dtype option on import or set low_memory=False.\n",
      "  df15 = pd.read_csv('NSDUH_2015_Tab.csv',sep = '\t' )\n"
     ]
    },
    {
     "name": "stdout",
     "output_type": "stream",
     "text": [
      "<class 'pandas.core.frame.DataFrame'>\n",
      "RangeIndex: 57146 entries, 0 to 57145\n",
      "Columns: 2679 entries, QUESTID2 to VEREP\n",
      "dtypes: float64(408), int64(2269), object(2)\n",
      "memory usage: 1.1+ GB\n"
     ]
    }
   ],
   "source": [
    "df15 = pd.read_csv('NSDUH_2015_Tab.csv',sep = '\t' )\n",
    "df15.info()"
   ]
  },
  {
   "cell_type": "code",
   "execution_count": 53,
   "metadata": {},
   "outputs": [
    {
     "name": "stderr",
     "output_type": "stream",
     "text": [
      "C:\\Users\\tn09t\\AppData\\Local\\Temp\\ipykernel_16820\\59712587.py:1: DtypeWarning: Columns (2946) have mixed types. Specify dtype option on import or set low_memory=False.\n",
      "  df14 = pd.read_csv('NSDUH_2014_Tab.csv',sep = '\t' )\n"
     ]
    },
    {
     "name": "stdout",
     "output_type": "stream",
     "text": [
      "<class 'pandas.core.frame.DataFrame'>\n",
      "RangeIndex: 55271 entries, 0 to 55270\n",
      "Columns: 3034 entries, QUESTID2 to VEREP\n",
      "dtypes: float64(519), int64(2513), object(2)\n",
      "memory usage: 1.2+ GB\n"
     ]
    }
   ],
   "source": [
    "df14 = pd.read_csv('NSDUH_2014_Tab.csv',sep = '\t' )\n",
    "df14.info()"
   ]
  },
  {
   "cell_type": "code",
   "execution_count": 54,
   "metadata": {},
   "outputs": [
    {
     "name": "stderr",
     "output_type": "stream",
     "text": [
      "C:\\Users\\tn09t\\AppData\\Local\\Temp\\ipykernel_16820\\500310104.py:1: DtypeWarning: Columns (2954) have mixed types. Specify dtype option on import or set low_memory=False.\n",
      "  df13 = pd.read_csv('NSDUH_2013_Tab.csv',sep = '\t' )\n"
     ]
    },
    {
     "name": "stdout",
     "output_type": "stream",
     "text": [
      "<class 'pandas.core.frame.DataFrame'>\n",
      "RangeIndex: 55160 entries, 0 to 55159\n",
      "Columns: 3040 entries, QUESTID2 to VEREP\n",
      "dtypes: float64(526), int64(2512), object(2)\n",
      "memory usage: 1.2+ GB\n"
     ]
    }
   ],
   "source": [
    "df13 = pd.read_csv('NSDUH_2013_Tab.csv',sep = '\t' )\n",
    "df13.info()"
   ]
  },
  {
   "cell_type": "code",
   "execution_count": 55,
   "metadata": {},
   "outputs": [
    {
     "name": "stderr",
     "output_type": "stream",
     "text": [
      "C:\\Users\\tn09t\\AppData\\Local\\Temp\\ipykernel_16820\\1702412959.py:1: DtypeWarning: Columns (2975) have mixed types. Specify dtype option on import or set low_memory=False.\n",
      "  df12 = pd.read_csv('NSDUH_2012_Tab.csv',sep = '\t' )\n"
     ]
    },
    {
     "name": "stdout",
     "output_type": "stream",
     "text": [
      "<class 'pandas.core.frame.DataFrame'>\n",
      "RangeIndex: 55268 entries, 0 to 55267\n",
      "Columns: 3054 entries, QUESTID2 to VEREP\n",
      "dtypes: float64(561), int64(2491), object(2)\n",
      "memory usage: 1.3+ GB\n"
     ]
    }
   ],
   "source": [
    "df12 = pd.read_csv('NSDUH_2012_Tab.csv',sep = '\t' )\n",
    "df12.info()"
   ]
  },
  {
   "cell_type": "code",
   "execution_count": 56,
   "metadata": {},
   "outputs": [
    {
     "name": "stderr",
     "output_type": "stream",
     "text": [
      "C:\\Users\\tn09t\\AppData\\Local\\Temp\\ipykernel_16820\\1177881976.py:1: DtypeWarning: Columns (2947) have mixed types. Specify dtype option on import or set low_memory=False.\n",
      "  df11 = pd.read_csv('NSDUH_2011_Tab.csv',sep = '\t' )\n"
     ]
    },
    {
     "name": "stdout",
     "output_type": "stream",
     "text": [
      "<class 'pandas.core.frame.DataFrame'>\n",
      "RangeIndex: 58397 entries, 0 to 58396\n",
      "Columns: 3026 entries, QUESTID2 to VEREP\n",
      "dtypes: float64(537), int64(2487), object(2)\n",
      "memory usage: 1.3+ GB\n"
     ]
    }
   ],
   "source": [
    "df11 = pd.read_csv('NSDUH_2011_Tab.csv',sep = '\t' )\n",
    "df11.info()"
   ]
  },
  {
   "cell_type": "code",
   "execution_count": 14,
   "metadata": {},
   "outputs": [
    {
     "name": "stdout",
     "output_type": "stream",
     "text": [
      "<class 'pandas.core.frame.DataFrame'>\n",
      "RangeIndex: 57313 entries, 0 to 57312\n",
      "Columns: 3033 entries, QUESTID2 to VEREP\n",
      "dtypes: float64(540), int64(2491), object(2)\n",
      "memory usage: 1.3+ GB\n"
     ]
    }
   ],
   "source": [
    "df10 = pd.read_csv('NSDUH_2010_Tab.csv',sep = '\t' )\n",
    "df10.info()"
   ]
  },
  {
   "cell_type": "code",
   "execution_count": 96,
   "metadata": {},
   "outputs": [
    {
     "name": "stdout",
     "output_type": "stream",
     "text": [
      "<bound method NDFrame.describe of        QUESTID2    FILEDATE     ANALWT2_C  VESTR_C  VEREP  PDEN10  COUTYP4  \\\n",
      "0      10000330  10/19/2023    298.004021    40030      2       1        1   \n",
      "1      10000425  10/19/2023   2292.377696    40002      1       2        2   \n",
      "2      10002771  10/19/2023    216.604339    40041      2       1        1   \n",
      "3      10005250  10/19/2023  13828.218374    40012      2       2        1   \n",
      "4      10005432  10/19/2023   6282.612060    40037      1       2        2   \n",
      "...         ...         ...           ...      ...    ...     ...      ...   \n",
      "50505  46071114  10/19/2023  11661.588421    40013      1       2        2   \n",
      "50506  46071268  10/19/2023   1876.215399    40034      2       2        2   \n",
      "50507  46071830  10/19/2023   3216.773493    40031      1       1        1   \n",
      "50508  46072042  10/19/2023    498.719872    40003      1       2        2   \n",
      "50509  46072724  10/19/2023   1948.589558    40031      2       2        2   \n",
      "\n",
      "       MAIIN102  AIIND102  AGE3  ...  COSUTELE2  COSUAPTDL2  COSURXDL2  \\\n",
      "0             2         2     6  ...        1.0         1.0        1.0   \n",
      "1             2         2     9  ...        3.0         3.0        3.0   \n",
      "2             2         2     6  ...        3.0         3.0        3.0   \n",
      "3             2         2     7  ...        2.0         2.0        2.0   \n",
      "4             2         2    10  ...        3.0         3.0        3.0   \n",
      "...         ...       ...   ...  ...        ...         ...        ...   \n",
      "50505         2         2     9  ...        3.0         3.0        3.0   \n",
      "50506         2         2     9  ...        3.0         3.0        3.0   \n",
      "50507         2         2     8  ...        3.0         1.0        3.0   \n",
      "50508         2         2     2  ...        2.0         2.0        2.0   \n",
      "50509         2         2    10  ...        3.0         3.0        3.0   \n",
      "\n",
      "       COSUSVHLT2  COHCTELE2  COHCAPTDL2  COHCRXDL2  COHCSVHLT2  LANGVER  \\\n",
      "0             2.0        1.0         1.0        1.0         1.0        2   \n",
      "1             3.0        2.0         2.0        2.0         2.0        1   \n",
      "2             3.0        3.0         3.0        3.0         3.0        1   \n",
      "3             2.0        2.0         2.0        2.0         2.0        1   \n",
      "4             3.0        2.0         1.0        2.0         2.0        1   \n",
      "...           ...        ...         ...        ...         ...      ...   \n",
      "50505         3.0        3.0         3.0        3.0         3.0        1   \n",
      "50506         3.0        1.0         1.0        1.0         1.0        1   \n",
      "50507         3.0        3.0         3.0        3.0         3.0        1   \n",
      "50508         2.0        2.0         2.0        2.0         2.0        1   \n",
      "50509         3.0        1.0         1.0        2.0         2.0        1   \n",
      "\n",
      "       GQTYPE2  \n",
      "0          NaN  \n",
      "1          NaN  \n",
      "2          NaN  \n",
      "3          NaN  \n",
      "4          NaN  \n",
      "...        ...  \n",
      "50505      NaN  \n",
      "50506      NaN  \n",
      "50507      NaN  \n",
      "50508      NaN  \n",
      "50509      NaN  \n",
      "\n",
      "[50510 rows x 2605 columns]>\n"
     ]
    }
   ],
   "source": [
    "print(df22.describe)"
   ]
  },
  {
   "cell_type": "code",
   "execution_count": 100,
   "metadata": {},
   "outputs": [
    {
     "name": "stdout",
     "output_type": "stream",
     "text": [
      "[91  2  1 93 83 98 97 94 85]\n"
     ]
    }
   ],
   "source": [
    "age_column = df22['UDMJLRGAMTS'].unique()\n",
    "print(age_column)"
   ]
  },
  {
   "cell_type": "code",
   "execution_count": 154,
   "metadata": {},
   "outputs": [],
   "source": [
    "total_df = [df10,df11,df12,df13,df14,df15,df16,df17,df18,df19,df20,df21,df22]\n",
    "    \n"
   ]
  },
  {
   "cell_type": "code",
   "execution_count": 210,
   "metadata": {},
   "outputs": [],
   "source": [
    "#total_df = {df10,df11,df12,df13,df14,df15,df16,df17,df18,df19,df20,df21,df22}\n",
    "def calculation(x,y):\n",
    "    try:\n",
    "        if y in x.columns:\n",
    "    #for data in total_df:\n",
    "            value1= (x[y] == 1).sum()\n",
    "            values2 = x[(x[y] == 2) | (x[y] == 91) | (x[y] == 93)]\n",
    "                   #and (x[y]== 91)]]]).sum()\n",
    "    #other = \n",
    "            percentage = (value1/len(values2))*100\n",
    "            print(f\"{percentage:.2f}%\")\n",
    "    except KeyError:\n",
    "        pass\n",
    "\n",
    "def percenteage(total_df, y):\n",
    "    print(f\"Attribute name: {y}\")\n",
    "    for idx, x in enumerate(total_df,start=2010):\n",
    "        print(f\"Year {idx}:\")\n",
    "        calculation(x,y)\n",
    "        print() \n",
    "    \n",
    "\n",
    "    #x[[(x['AGE2']> 1)]\n",
    "    #y= x[[(x['AGE3']> 1)] and (x['AGE3']<=3)]"
   ]
  },
  {
   "cell_type": "code",
   "execution_count": 158,
   "metadata": {},
   "outputs": [
    {
     "name": "stdout",
     "output_type": "stream",
     "text": [
      "3.6275695284159615\n"
     ]
    }
   ],
   "source": [
    "calculation(df21,'UDMJLRGAMTS')"
   ]
  },
  {
   "cell_type": "code",
   "execution_count": 211,
   "metadata": {},
   "outputs": [
    {
     "name": "stdout",
     "output_type": "stream",
     "text": [
      "Attribute name: UDMJLRGAMTS\n",
      "Year 2010:\n",
      "\n",
      "Year 2011:\n",
      "\n",
      "Year 2012:\n",
      "\n",
      "Year 2013:\n",
      "\n",
      "Year 2014:\n",
      "\n",
      "Year 2015:\n",
      "\n",
      "Year 2016:\n",
      "\n",
      "Year 2017:\n",
      "\n",
      "Year 2018:\n",
      "\n",
      "Year 2019:\n",
      "\n",
      "Year 2020:\n",
      "\n",
      "Year 2021:\n",
      "3.63%\n",
      "\n",
      "Year 2022:\n",
      "4.45%\n",
      "\n"
     ]
    }
   ],
   "source": [
    "percenteage(total_df,'UDMJLRGAMTS')"
   ]
  },
  {
   "cell_type": "code",
   "execution_count": 212,
   "metadata": {},
   "outputs": [
    {
     "name": "stdout",
     "output_type": "stream",
     "text": [
      "Attribute name: UDMJTRYSTOP\n",
      "Year 2010:\n",
      "\n",
      "Year 2011:\n",
      "\n",
      "Year 2012:\n",
      "\n",
      "Year 2013:\n",
      "\n",
      "Year 2014:\n",
      "\n",
      "Year 2015:\n",
      "\n",
      "Year 2016:\n",
      "\n",
      "Year 2017:\n",
      "\n",
      "Year 2018:\n",
      "\n",
      "Year 2019:\n",
      "\n",
      "Year 2020:\n",
      "\n",
      "Year 2021:\n",
      "5.03%\n",
      "\n",
      "Year 2022:\n",
      "6.29%\n",
      "\n"
     ]
    }
   ],
   "source": [
    "percenteage(total_df,'UDMJTRYSTOP')"
   ]
  },
  {
   "cell_type": "code",
   "execution_count": 213,
   "metadata": {},
   "outputs": [
    {
     "name": "stdout",
     "output_type": "stream",
     "text": [
      "Attribute name: UDMJNOTSTOP\n",
      "Year 2010:\n",
      "\n",
      "Year 2011:\n",
      "\n",
      "Year 2012:\n",
      "\n",
      "Year 2013:\n",
      "\n",
      "Year 2014:\n",
      "\n",
      "Year 2015:\n",
      "\n",
      "Year 2016:\n",
      "\n",
      "Year 2017:\n",
      "\n",
      "Year 2018:\n",
      "\n",
      "Year 2019:\n",
      "\n",
      "Year 2020:\n",
      "\n",
      "Year 2021:\n",
      "1.70%\n",
      "\n",
      "Year 2022:\n",
      "2.12%\n",
      "\n"
     ]
    }
   ],
   "source": [
    "percenteage(total_df,'UDMJNOTSTOP')"
   ]
  },
  {
   "cell_type": "code",
   "execution_count": 214,
   "metadata": {},
   "outputs": [
    {
     "name": "stdout",
     "output_type": "stream",
     "text": [
      "Attribute name: UDMJWSHSTOP\n",
      "Year 2010:\n",
      "\n",
      "Year 2011:\n",
      "\n",
      "Year 2012:\n",
      "\n",
      "Year 2013:\n",
      "\n",
      "Year 2014:\n",
      "\n",
      "Year 2015:\n",
      "\n",
      "Year 2016:\n",
      "\n",
      "Year 2017:\n",
      "\n",
      "Year 2018:\n",
      "\n",
      "Year 2019:\n",
      "\n",
      "Year 2020:\n",
      "\n",
      "Year 2021:\n",
      "0.47%\n",
      "\n",
      "Year 2022:\n",
      "0.72%\n",
      "\n"
     ]
    }
   ],
   "source": [
    "percenteage(total_df,'UDMJWSHSTOP')"
   ]
  },
  {
   "cell_type": "code",
   "execution_count": 215,
   "metadata": {},
   "outputs": [
    {
     "name": "stdout",
     "output_type": "stream",
     "text": [
      "Attribute name: UDMJTIMEUSE\n",
      "Year 2010:\n",
      "\n",
      "Year 2011:\n",
      "\n",
      "Year 2012:\n",
      "\n",
      "Year 2013:\n",
      "\n",
      "Year 2014:\n",
      "\n",
      "Year 2015:\n",
      "\n",
      "Year 2016:\n",
      "\n",
      "Year 2017:\n",
      "\n",
      "Year 2018:\n",
      "\n",
      "Year 2019:\n",
      "\n",
      "Year 2020:\n",
      "\n",
      "Year 2021:\n",
      "6.55%\n",
      "\n",
      "Year 2022:\n",
      "8.60%\n",
      "\n"
     ]
    }
   ],
   "source": [
    "percenteage(total_df,'UDMJTIMEUSE')"
   ]
  },
  {
   "cell_type": "code",
   "execution_count": 216,
   "metadata": {},
   "outputs": [
    {
     "name": "stdout",
     "output_type": "stream",
     "text": [
      "Attribute name: UDMJTIMEGET\n",
      "Year 2010:\n",
      "\n",
      "Year 2011:\n",
      "\n",
      "Year 2012:\n",
      "\n",
      "Year 2013:\n",
      "\n",
      "Year 2014:\n",
      "\n",
      "Year 2015:\n",
      "\n",
      "Year 2016:\n",
      "\n",
      "Year 2017:\n",
      "\n",
      "Year 2018:\n",
      "\n",
      "Year 2019:\n",
      "\n",
      "Year 2020:\n",
      "\n",
      "Year 2021:\n",
      "0.19%\n",
      "\n",
      "Year 2022:\n",
      "0.30%\n",
      "\n"
     ]
    }
   ],
   "source": [
    "percenteage(total_df,'UDMJTIMEGET')"
   ]
  },
  {
   "cell_type": "code",
   "execution_count": 217,
   "metadata": {},
   "outputs": [
    {
     "name": "stdout",
     "output_type": "stream",
     "text": [
      "Attribute name: UDMJWANTBAD\n",
      "Year 2010:\n",
      "\n",
      "Year 2011:\n",
      "\n",
      "Year 2012:\n",
      "\n",
      "Year 2013:\n",
      "\n",
      "Year 2014:\n",
      "\n",
      "Year 2015:\n",
      "\n",
      "Year 2016:\n",
      "\n",
      "Year 2017:\n",
      "\n",
      "Year 2018:\n",
      "\n",
      "Year 2019:\n",
      "\n",
      "Year 2020:\n",
      "\n",
      "Year 2021:\n",
      "2.16%\n",
      "\n",
      "Year 2022:\n",
      "2.75%\n",
      "\n"
     ]
    }
   ],
   "source": [
    "percenteage(total_df,'UDMJWANTBAD')"
   ]
  },
  {
   "cell_type": "code",
   "execution_count": 218,
   "metadata": {},
   "outputs": [
    {
     "name": "stdout",
     "output_type": "stream",
     "text": [
      "Attribute name: UDMJSTRURGE\n",
      "Year 2010:\n",
      "\n",
      "Year 2011:\n",
      "\n",
      "Year 2012:\n",
      "\n",
      "Year 2013:\n",
      "\n",
      "Year 2014:\n",
      "\n",
      "Year 2015:\n",
      "\n",
      "Year 2016:\n",
      "\n",
      "Year 2017:\n",
      "\n",
      "Year 2018:\n",
      "\n",
      "Year 2019:\n",
      "\n",
      "Year 2020:\n",
      "\n",
      "Year 2021:\n",
      "4.84%\n",
      "\n",
      "Year 2022:\n",
      "5.63%\n",
      "\n"
     ]
    }
   ],
   "source": [
    "percenteage(total_df,'UDMJSTRURGE')"
   ]
  },
  {
   "cell_type": "code",
   "execution_count": 219,
   "metadata": {},
   "outputs": [
    {
     "name": "stdout",
     "output_type": "stream",
     "text": [
      "Attribute name: UDMJWORKPRB\n",
      "Year 2010:\n",
      "\n",
      "Year 2011:\n",
      "\n",
      "Year 2012:\n",
      "\n",
      "Year 2013:\n",
      "\n",
      "Year 2014:\n",
      "\n",
      "Year 2015:\n",
      "\n",
      "Year 2016:\n",
      "\n",
      "Year 2017:\n",
      "\n",
      "Year 2018:\n",
      "\n",
      "Year 2019:\n",
      "\n",
      "Year 2020:\n",
      "\n",
      "Year 2021:\n",
      "0.62%\n",
      "\n",
      "Year 2022:\n",
      "0.80%\n",
      "\n"
     ]
    }
   ],
   "source": [
    "percenteage(total_df,'UDMJWORKPRB')"
   ]
  },
  {
   "cell_type": "code",
   "execution_count": 220,
   "metadata": {},
   "outputs": [
    {
     "name": "stdout",
     "output_type": "stream",
     "text": [
      "Attribute name: UDMJFMLYCTD\n",
      "Year 2010:\n",
      "\n",
      "Year 2011:\n",
      "\n",
      "Year 2012:\n",
      "\n",
      "Year 2013:\n",
      "\n",
      "Year 2014:\n",
      "\n",
      "Year 2015:\n",
      "\n",
      "Year 2016:\n",
      "\n",
      "Year 2017:\n",
      "\n",
      "Year 2018:\n",
      "\n",
      "Year 2019:\n",
      "\n",
      "Year 2020:\n",
      "\n",
      "Year 2021:\n",
      "0.70%\n",
      "\n",
      "Year 2022:\n",
      "0.90%\n",
      "\n"
     ]
    }
   ],
   "source": [
    "percenteage(total_df,'UDMJFMLYCTD')"
   ]
  },
  {
   "cell_type": "code",
   "execution_count": 221,
   "metadata": {},
   "outputs": [
    {
     "name": "stdout",
     "output_type": "stream",
     "text": [
      "Attribute name: UDMJSTOPACT\n",
      "Year 2010:\n",
      "\n",
      "Year 2011:\n",
      "\n",
      "Year 2012:\n",
      "\n",
      "Year 2013:\n",
      "\n",
      "Year 2014:\n",
      "\n",
      "Year 2015:\n",
      "\n",
      "Year 2016:\n",
      "\n",
      "Year 2017:\n",
      "\n",
      "Year 2018:\n",
      "\n",
      "Year 2019:\n",
      "\n",
      "Year 2020:\n",
      "\n",
      "Year 2021:\n",
      "0.99%\n",
      "\n",
      "Year 2022:\n",
      "1.41%\n",
      "\n"
     ]
    }
   ],
   "source": [
    "percenteage(total_df,'UDMJSTOPACT')"
   ]
  },
  {
   "cell_type": "code",
   "execution_count": 222,
   "metadata": {},
   "outputs": [
    {
     "name": "stdout",
     "output_type": "stream",
     "text": [
      "Attribute name: UDMJGETHURT\n",
      "Year 2010:\n",
      "\n",
      "Year 2011:\n",
      "\n",
      "Year 2012:\n",
      "\n",
      "Year 2013:\n",
      "\n",
      "Year 2014:\n",
      "\n",
      "Year 2015:\n",
      "\n",
      "Year 2016:\n",
      "\n",
      "Year 2017:\n",
      "\n",
      "Year 2018:\n",
      "\n",
      "Year 2019:\n",
      "\n",
      "Year 2020:\n",
      "\n",
      "Year 2021:\n",
      "0.28%\n",
      "\n",
      "Year 2022:\n",
      "0.39%\n",
      "\n"
     ]
    }
   ],
   "source": [
    "percenteage(total_df,'UDMJGETHURT')"
   ]
  },
  {
   "cell_type": "code",
   "execution_count": 223,
   "metadata": {},
   "outputs": [
    {
     "name": "stdout",
     "output_type": "stream",
     "text": [
      "Attribute name: UDMJHLTHCTD\n",
      "Year 2010:\n",
      "\n",
      "Year 2011:\n",
      "\n",
      "Year 2012:\n",
      "\n",
      "Year 2013:\n",
      "\n",
      "Year 2014:\n",
      "\n",
      "Year 2015:\n",
      "\n",
      "Year 2016:\n",
      "\n",
      "Year 2017:\n",
      "\n",
      "Year 2018:\n",
      "\n",
      "Year 2019:\n",
      "\n",
      "Year 2020:\n",
      "\n",
      "Year 2021:\n",
      "0.50%\n",
      "\n",
      "Year 2022:\n",
      "0.56%\n",
      "\n"
     ]
    }
   ],
   "source": [
    "percenteage(total_df,'UDMJHLTHCTD')"
   ]
  },
  {
   "cell_type": "code",
   "execution_count": 224,
   "metadata": {},
   "outputs": [
    {
     "name": "stdout",
     "output_type": "stream",
     "text": [
      "Attribute name: UDMJMNTLCTD\n",
      "Year 2010:\n",
      "\n",
      "Year 2011:\n",
      "\n",
      "Year 2012:\n",
      "\n",
      "Year 2013:\n",
      "\n",
      "Year 2014:\n",
      "\n",
      "Year 2015:\n",
      "\n",
      "Year 2016:\n",
      "\n",
      "Year 2017:\n",
      "\n",
      "Year 2018:\n",
      "\n",
      "Year 2019:\n",
      "\n",
      "Year 2020:\n",
      "\n",
      "Year 2021:\n",
      "0.56%\n",
      "\n",
      "Year 2022:\n",
      "0.87%\n",
      "\n"
     ]
    }
   ],
   "source": [
    "percenteage(total_df,'UDMJMNTLCTD')"
   ]
  },
  {
   "cell_type": "code",
   "execution_count": 225,
   "metadata": {},
   "outputs": [
    {
     "name": "stdout",
     "output_type": "stream",
     "text": [
      "Attribute name: UDMJNEEDMOR\n",
      "Year 2010:\n",
      "\n",
      "Year 2011:\n",
      "\n",
      "Year 2012:\n",
      "\n",
      "Year 2013:\n",
      "\n",
      "Year 2014:\n",
      "\n",
      "Year 2015:\n",
      "\n",
      "Year 2016:\n",
      "\n",
      "Year 2017:\n",
      "\n",
      "Year 2018:\n",
      "\n",
      "Year 2019:\n",
      "\n",
      "Year 2020:\n",
      "\n",
      "Year 2021:\n",
      "3.45%\n",
      "\n",
      "Year 2022:\n",
      "4.11%\n",
      "\n"
     ]
    }
   ],
   "source": [
    "percenteage(total_df,'UDMJNEEDMOR')"
   ]
  },
  {
   "cell_type": "code",
   "execution_count": 226,
   "metadata": {},
   "outputs": [
    {
     "name": "stdout",
     "output_type": "stream",
     "text": [
      "Attribute name: UDMJLESSEFF\n",
      "Year 2010:\n",
      "\n",
      "Year 2011:\n",
      "\n",
      "Year 2012:\n",
      "\n",
      "Year 2013:\n",
      "\n",
      "Year 2014:\n",
      "\n",
      "Year 2015:\n",
      "\n",
      "Year 2016:\n",
      "\n",
      "Year 2017:\n",
      "\n",
      "Year 2018:\n",
      "\n",
      "Year 2019:\n",
      "\n",
      "Year 2020:\n",
      "\n",
      "Year 2021:\n",
      "1.49%\n",
      "\n",
      "Year 2022:\n",
      "1.65%\n",
      "\n"
     ]
    }
   ],
   "source": [
    "percenteage(total_df,'UDMJLESSEFF')"
   ]
  },
  {
   "cell_type": "code",
   "execution_count": 227,
   "metadata": {},
   "outputs": [
    {
     "name": "stdout",
     "output_type": "stream",
     "text": [
      "Attribute name: UDMJWDANGRY\n",
      "Year 2010:\n",
      "\n",
      "Year 2011:\n",
      "\n",
      "Year 2012:\n",
      "\n",
      "Year 2013:\n",
      "\n",
      "Year 2014:\n",
      "\n",
      "Year 2015:\n",
      "\n",
      "Year 2016:\n",
      "\n",
      "Year 2017:\n",
      "\n",
      "Year 2018:\n",
      "\n",
      "Year 2019:\n",
      "\n",
      "Year 2020:\n",
      "\n",
      "Year 2021:\n",
      "2.82%\n",
      "\n",
      "Year 2022:\n",
      "3.63%\n",
      "\n"
     ]
    }
   ],
   "source": [
    "percenteage(total_df,'UDMJWDANGRY')"
   ]
  },
  {
   "cell_type": "code",
   "execution_count": 228,
   "metadata": {},
   "outputs": [
    {
     "name": "stdout",
     "output_type": "stream",
     "text": [
      "Attribute name: UDMJWDFLANX\n",
      "Year 2010:\n",
      "\n",
      "Year 2011:\n",
      "\n",
      "Year 2012:\n",
      "\n",
      "Year 2013:\n",
      "\n",
      "Year 2014:\n",
      "\n",
      "Year 2015:\n",
      "\n",
      "Year 2016:\n",
      "\n",
      "Year 2017:\n",
      "\n",
      "Year 2018:\n",
      "\n",
      "Year 2019:\n",
      "\n",
      "Year 2020:\n",
      "\n",
      "Year 2021:\n",
      "3.23%\n",
      "\n",
      "Year 2022:\n",
      "4.09%\n",
      "\n"
     ]
    }
   ],
   "source": [
    "percenteage(total_df,'UDMJWDFLANX')"
   ]
  },
  {
   "cell_type": "code",
   "execution_count": 229,
   "metadata": {},
   "outputs": [
    {
     "name": "stdout",
     "output_type": "stream",
     "text": [
      "Attribute name: UDMJWDSLEEP\n",
      "Year 2010:\n",
      "\n",
      "Year 2011:\n",
      "\n",
      "Year 2012:\n",
      "\n",
      "Year 2013:\n",
      "\n",
      "Year 2014:\n",
      "\n",
      "Year 2015:\n",
      "\n",
      "Year 2016:\n",
      "\n",
      "Year 2017:\n",
      "\n",
      "Year 2018:\n",
      "\n",
      "Year 2019:\n",
      "\n",
      "Year 2020:\n",
      "\n",
      "Year 2021:\n",
      "3.70%\n",
      "\n",
      "Year 2022:\n",
      "4.85%\n",
      "\n"
     ]
    }
   ],
   "source": [
    "percenteage(total_df,'UDMJWDSLEEP')"
   ]
  },
  {
   "cell_type": "code",
   "execution_count": 230,
   "metadata": {},
   "outputs": [
    {
     "name": "stdout",
     "output_type": "stream",
     "text": [
      "Attribute name: UDMJWDAPPET\n",
      "Year 2010:\n",
      "\n",
      "Year 2011:\n",
      "\n",
      "Year 2012:\n",
      "\n",
      "Year 2013:\n",
      "\n",
      "Year 2014:\n",
      "\n",
      "Year 2015:\n",
      "\n",
      "Year 2016:\n",
      "\n",
      "Year 2017:\n",
      "\n",
      "Year 2018:\n",
      "\n",
      "Year 2019:\n",
      "\n",
      "Year 2020:\n",
      "\n",
      "Year 2021:\n",
      "2.24%\n",
      "\n",
      "Year 2022:\n",
      "3.11%\n",
      "\n"
     ]
    }
   ],
   "source": [
    "percenteage(total_df,'UDMJWDAPPET')"
   ]
  },
  {
   "cell_type": "code",
   "execution_count": 231,
   "metadata": {},
   "outputs": [
    {
     "name": "stdout",
     "output_type": "stream",
     "text": [
      "Attribute name: UDMJWDSITST\n",
      "Year 2010:\n",
      "\n",
      "Year 2011:\n",
      "\n",
      "Year 2012:\n",
      "\n",
      "Year 2013:\n",
      "\n",
      "Year 2014:\n",
      "\n",
      "Year 2015:\n",
      "\n",
      "Year 2016:\n",
      "\n",
      "Year 2017:\n",
      "\n",
      "Year 2018:\n",
      "\n",
      "Year 2019:\n",
      "\n",
      "Year 2020:\n",
      "\n",
      "Year 2021:\n",
      "1.46%\n",
      "\n",
      "Year 2022:\n",
      "2.17%\n",
      "\n"
     ]
    }
   ],
   "source": [
    "percenteage(total_df,'UDMJWDSITST')"
   ]
  },
  {
   "cell_type": "code",
   "execution_count": 232,
   "metadata": {},
   "outputs": [
    {
     "name": "stdout",
     "output_type": "stream",
     "text": [
      "Attribute name: UDMJWDDEPRS\n",
      "Year 2010:\n",
      "\n",
      "Year 2011:\n",
      "\n",
      "Year 2012:\n",
      "\n",
      "Year 2013:\n",
      "\n",
      "Year 2014:\n",
      "\n",
      "Year 2015:\n",
      "\n",
      "Year 2016:\n",
      "\n",
      "Year 2017:\n",
      "\n",
      "Year 2018:\n",
      "\n",
      "Year 2019:\n",
      "\n",
      "Year 2020:\n",
      "\n",
      "Year 2021:\n",
      "2.54%\n",
      "\n",
      "Year 2022:\n",
      "3.33%\n",
      "\n"
     ]
    }
   ],
   "source": [
    "percenteage(total_df,'UDMJWDDEPRS')"
   ]
  },
  {
   "cell_type": "code",
   "execution_count": 233,
   "metadata": {},
   "outputs": [
    {
     "name": "stdout",
     "output_type": "stream",
     "text": [
      "Attribute name: UDMJWDSTMCH\n",
      "Year 2010:\n",
      "\n",
      "Year 2011:\n",
      "\n",
      "Year 2012:\n",
      "\n",
      "Year 2013:\n",
      "\n",
      "Year 2014:\n",
      "\n",
      "Year 2015:\n",
      "\n",
      "Year 2016:\n",
      "\n",
      "Year 2017:\n",
      "\n",
      "Year 2018:\n",
      "\n",
      "Year 2019:\n",
      "\n",
      "Year 2020:\n",
      "\n",
      "Year 2021:\n",
      "0.97%\n",
      "\n",
      "Year 2022:\n",
      "1.38%\n",
      "\n"
     ]
    }
   ],
   "source": [
    "percenteage(total_df,'UDMJWDSTMCH')"
   ]
  },
  {
   "cell_type": "code",
   "execution_count": 234,
   "metadata": {},
   "outputs": [
    {
     "name": "stdout",
     "output_type": "stream",
     "text": [
      "Attribute name: UDMJWDSHAKE\n",
      "Year 2010:\n",
      "\n",
      "Year 2011:\n",
      "\n",
      "Year 2012:\n",
      "\n",
      "Year 2013:\n",
      "\n",
      "Year 2014:\n",
      "\n",
      "Year 2015:\n",
      "\n",
      "Year 2016:\n",
      "\n",
      "Year 2017:\n",
      "\n",
      "Year 2018:\n",
      "\n",
      "Year 2019:\n",
      "\n",
      "Year 2020:\n",
      "\n",
      "Year 2021:\n",
      "0.48%\n",
      "\n",
      "Year 2022:\n",
      "0.65%\n",
      "\n"
     ]
    }
   ],
   "source": [
    "percenteage(total_df,'UDMJWDSHAKE')"
   ]
  },
  {
   "cell_type": "code",
   "execution_count": 235,
   "metadata": {},
   "outputs": [
    {
     "name": "stdout",
     "output_type": "stream",
     "text": [
      "Attribute name: UDMJWDSWEAT\n",
      "Year 2010:\n",
      "\n",
      "Year 2011:\n",
      "\n",
      "Year 2012:\n",
      "\n",
      "Year 2013:\n",
      "\n",
      "Year 2014:\n",
      "\n",
      "Year 2015:\n",
      "\n",
      "Year 2016:\n",
      "\n",
      "Year 2017:\n",
      "\n",
      "Year 2018:\n",
      "\n",
      "Year 2019:\n",
      "\n",
      "Year 2020:\n",
      "\n",
      "Year 2021:\n",
      "0.67%\n",
      "\n",
      "Year 2022:\n",
      "1.04%\n",
      "\n"
     ]
    }
   ],
   "source": [
    "percenteage(total_df,'UDMJWDSWEAT')"
   ]
  },
  {
   "cell_type": "code",
   "execution_count": 236,
   "metadata": {},
   "outputs": [
    {
     "name": "stdout",
     "output_type": "stream",
     "text": [
      "Attribute name: UDMJWDFEVER\n",
      "Year 2010:\n",
      "\n",
      "Year 2011:\n",
      "\n",
      "Year 2012:\n",
      "\n",
      "Year 2013:\n",
      "\n",
      "Year 2014:\n",
      "\n",
      "Year 2015:\n",
      "\n",
      "Year 2016:\n",
      "\n",
      "Year 2017:\n",
      "\n",
      "Year 2018:\n",
      "\n",
      "Year 2019:\n",
      "\n",
      "Year 2020:\n",
      "\n",
      "Year 2021:\n",
      "0.21%\n",
      "\n",
      "Year 2022:\n",
      "0.29%\n",
      "\n"
     ]
    }
   ],
   "source": [
    "percenteage(total_df,'UDMJWDFEVER')"
   ]
  },
  {
   "cell_type": "code",
   "execution_count": 237,
   "metadata": {},
   "outputs": [
    {
     "name": "stdout",
     "output_type": "stream",
     "text": [
      "Attribute name: UDMJWDCHILL\n",
      "Year 2010:\n",
      "\n",
      "Year 2011:\n",
      "\n",
      "Year 2012:\n",
      "\n",
      "Year 2013:\n",
      "\n",
      "Year 2014:\n",
      "\n",
      "Year 2015:\n",
      "\n",
      "Year 2016:\n",
      "\n",
      "Year 2017:\n",
      "\n",
      "Year 2018:\n",
      "\n",
      "Year 2019:\n",
      "\n",
      "Year 2020:\n",
      "\n",
      "Year 2021:\n",
      "0.41%\n",
      "\n",
      "Year 2022:\n",
      "0.59%\n",
      "\n"
     ]
    }
   ],
   "source": [
    "percenteage(total_df,'UDMJWDCHILL')"
   ]
  },
  {
   "cell_type": "code",
   "execution_count": 238,
   "metadata": {},
   "outputs": [
    {
     "name": "stdout",
     "output_type": "stream",
     "text": [
      "Attribute name: UDMJWDHEDAC\n",
      "Year 2010:\n",
      "\n",
      "Year 2011:\n",
      "\n",
      "Year 2012:\n",
      "\n",
      "Year 2013:\n",
      "\n",
      "Year 2014:\n",
      "\n",
      "Year 2015:\n",
      "\n",
      "Year 2016:\n",
      "\n",
      "Year 2017:\n",
      "\n",
      "Year 2018:\n",
      "\n",
      "Year 2019:\n",
      "\n",
      "Year 2020:\n",
      "\n",
      "Year 2021:\n",
      "1.41%\n",
      "\n",
      "Year 2022:\n",
      "1.95%\n",
      "\n"
     ]
    }
   ],
   "source": [
    "percenteage(total_df,'UDMJWDHEDAC')"
   ]
  },
  {
   "cell_type": "code",
   "execution_count": 239,
   "metadata": {},
   "outputs": [
    {
     "name": "stdout",
     "output_type": "stream",
     "text": [
      "Attribute name: UDMJAVWMARJ\n",
      "Year 2010:\n",
      "\n",
      "Year 2011:\n",
      "\n",
      "Year 2012:\n",
      "\n",
      "Year 2013:\n",
      "\n",
      "Year 2014:\n",
      "\n",
      "Year 2015:\n",
      "\n",
      "Year 2016:\n",
      "\n",
      "Year 2017:\n",
      "\n",
      "Year 2018:\n",
      "\n",
      "Year 2019:\n",
      "\n",
      "Year 2020:\n",
      "\n",
      "Year 2021:\n",
      "0.95%\n",
      "\n",
      "Year 2022:\n",
      "1.26%\n",
      "\n"
     ]
    }
   ],
   "source": [
    "percenteage(total_df,'UDMJAVWMARJ')"
   ]
  }
 ],
 "metadata": {
  "kernelspec": {
   "display_name": "base",
   "language": "python",
   "name": "python3"
  },
  "language_info": {
   "codemirror_mode": {
    "name": "ipython",
    "version": 3
   },
   "file_extension": ".py",
   "mimetype": "text/x-python",
   "name": "python",
   "nbconvert_exporter": "python",
   "pygments_lexer": "ipython3",
   "version": "3.11.5"
  }
 },
 "nbformat": 4,
 "nbformat_minor": 2
}
