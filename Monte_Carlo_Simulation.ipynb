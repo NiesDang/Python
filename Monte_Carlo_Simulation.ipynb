{
  "cells": [
    {
      "cell_type": "code",
      "execution_count": 29,
      "metadata": {
        "id": "SavJVMAj2Gp_"
      },
      "outputs": [],
      "source": [
        "import numpy as np\n",
        "import pandas as pd"
      ]
    },
    {
      "cell_type": "code",
      "execution_count": 30,
      "metadata": {
        "id": "xoq3OZf849sP"
      },
      "outputs": [],
      "source": [
        "from IPython.core.interactiveshell import InteractiveShell\n",
        "InteractiveShell.ast_node_interactivity=\"all\""
      ]
    },
    {
      "cell_type": "code",
      "execution_count": 31,
      "metadata": {
        "colab": {
          "base_uri": "https://localhost:8080/"
        },
        "id": "QrYtZx3D3Z61",
        "outputId": "6b68deba-1781-4fbc-fb3f-1f996a059188"
      },
      "outputs": [
        {
          "data": {
            "text/plain": [
              "array([2, 3])"
            ]
          },
          "execution_count": 31,
          "metadata": {},
          "output_type": "execute_result"
        }
      ],
      "source": [
        "A=np.random.randint(1,7,2)\n",
        "A"
      ]
    },
    {
      "cell_type": "code",
      "execution_count": 32,
      "metadata": {
        "id": "bWVwWQo33jkO"
      },
      "outputs": [],
      "source": [
        "def roll_dice1():\n",
        "  return np.random.randint(1,7,2)"
      ]
    },
    {
      "cell_type": "code",
      "execution_count": 33,
      "metadata": {
        "colab": {
          "base_uri": "https://localhost:8080/"
        },
        "id": "DFYhDRqc3uOi",
        "outputId": "2f671aae-f3ac-4efa-a9f9-7180244c94a0"
      },
      "outputs": [
        {
          "data": {
            "text/plain": [
              "array([6, 4])"
            ]
          },
          "execution_count": 33,
          "metadata": {},
          "output_type": "execute_result"
        }
      ],
      "source": [
        "roll_dice1()"
      ]
    },
    {
      "cell_type": "code",
      "execution_count": 34,
      "metadata": {
        "colab": {
          "base_uri": "https://localhost:8080/"
        },
        "id": "pXUAU41C3w5n",
        "outputId": "79a64953-e4d2-43d9-e95e-d786e1a7b118"
      },
      "outputs": [
        {
          "data": {
            "text/plain": [
              "array([5, 4])"
            ]
          },
          "execution_count": 34,
          "metadata": {},
          "output_type": "execute_result"
        },
        {
          "data": {
            "text/plain": [
              "9"
            ]
          },
          "execution_count": 34,
          "metadata": {},
          "output_type": "execute_result"
        }
      ],
      "source": [
        "A=roll_dice1()\n",
        "A\n",
        "B=np.sum(A)\n",
        "B"
      ]
    },
    {
      "cell_type": "code",
      "execution_count": 35,
      "metadata": {
        "colab": {
          "base_uri": "https://localhost:8080/"
        },
        "id": "Rism_STD4MnG",
        "outputId": "7be02183-8dea-4a5b-d4ff-47793f3d9a74"
      },
      "outputs": [
        {
          "data": {
            "text/plain": [
              "8"
            ]
          },
          "execution_count": 35,
          "metadata": {},
          "output_type": "execute_result"
        }
      ],
      "source": [
        "np.sum(np.random.randint(1,7,2))"
      ]
    },
    {
      "cell_type": "code",
      "execution_count": 36,
      "metadata": {
        "id": "-fLI7Z-a4owX"
      },
      "outputs": [],
      "source": [
        "def roll_dice():\n",
        "  return np.sum(np.random.randint(1,7,2))"
      ]
    },
    {
      "cell_type": "code",
      "execution_count": 37,
      "metadata": {
        "colab": {
          "base_uri": "https://localhost:8080/"
        },
        "id": "njsarcJT4xF_",
        "outputId": "adf93e44-5558-4d67-960b-d190e0a0e815"
      },
      "outputs": [
        {
          "data": {
            "text/plain": [
              "3"
            ]
          },
          "execution_count": 37,
          "metadata": {},
          "output_type": "execute_result"
        }
      ],
      "source": [
        "roll_dice()"
      ]
    },
    {
      "cell_type": "markdown",
      "metadata": {
        "id": "hGQvmDS45BXe"
      },
      "source": [
        "To create a numpy array with zeros, given shape of the array, use numpy_zero() function.\n",
        "numpy.zeros(shape, dtype=float, order='C')\n",
        "Numpy array (1 dimensional) of size 2 is created with zeros"
      ]
    },
    {
      "cell_type": "code",
      "execution_count": 38,
      "metadata": {
        "colab": {
          "base_uri": "https://localhost:8080/"
        },
        "id": "UElhhhWN5bGh",
        "outputId": "1b3c838a-2326-4896-9ab7-37d9577924c7"
      },
      "outputs": [
        {
          "data": {
            "text/plain": [
              "array([0., 0.])"
            ]
          },
          "execution_count": 38,
          "metadata": {},
          "output_type": "execute_result"
        }
      ],
      "source": [
        "np.zeros(2)"
      ]
    },
    {
      "cell_type": "markdown",
      "metadata": {
        "id": "sLQlri3i5emI"
      },
      "source": [
        "create numpy array with zeros of integer datatype"
      ]
    },
    {
      "cell_type": "code",
      "execution_count": 39,
      "metadata": {
        "colab": {
          "base_uri": "https://localhost:8080/"
        },
        "id": "FZovexih5dV2",
        "outputId": "cfedc738-174a-413a-d460-d8f0aabb2283"
      },
      "outputs": [
        {
          "data": {
            "text/plain": [
              "array([0, 0])"
            ]
          },
          "execution_count": 39,
          "metadata": {},
          "output_type": "execute_result"
        }
      ],
      "source": [
        "np.zeros(2, int)"
      ]
    },
    {
      "cell_type": "markdown",
      "metadata": {
        "id": "8jS1Kdzr5prd"
      },
      "source": [
        "Create a two dimensional array of zeros, pass the shape i.e, number of rows and columns"
      ]
    },
    {
      "cell_type": "code",
      "execution_count": 40,
      "metadata": {
        "colab": {
          "base_uri": "https://localhost:8080/"
        },
        "id": "5x7Wk-xC5_4d",
        "outputId": "222b2a17-ab22-422e-d4f4-0f32ddd3ab43"
      },
      "outputs": [
        {
          "data": {
            "text/plain": [
              "array([[0, 0, 0, 0],\n",
              "       [0, 0, 0, 0],\n",
              "       [0, 0, 0, 0]])"
            ]
          },
          "execution_count": 40,
          "metadata": {},
          "output_type": "execute_result"
        }
      ],
      "source": [
        "np.zeros((3,4),int)"
      ]
    },
    {
      "cell_type": "code",
      "execution_count": 57,
      "metadata": {
        "id": "LsnqHjkA67IN"
      },
      "outputs": [],
      "source": [
        "def monte_carlo_simulation( runs=1000):\n",
        "  results = np.zeros(2)\n",
        "  for _ in range(runs):\n",
        "    if roll_dice() == 7:\n",
        "      results[0] = results[0] + 1\n",
        "    else:\n",
        "      results[1] = results[1] + 1\n",
        "  return results"
      ]
    },
    {
      "cell_type": "code",
      "execution_count": 58,
      "metadata": {
        "colab": {
          "base_uri": "https://localhost:8080/"
        },
        "id": "BFXMMAi6ILt7",
        "outputId": "912232f7-15e9-43d0-976d-401e1038620b"
      },
      "outputs": [
        {
          "data": {
            "text/plain": [
              "array([177., 823.])"
            ]
          },
          "execution_count": 58,
          "metadata": {},
          "output_type": "execute_result"
        }
      ],
      "source": [
        "monte_carlo_simulation()"
      ]
    },
    {
      "cell_type": "code",
      "execution_count": 59,
      "metadata": {
        "colab": {
          "base_uri": "https://localhost:8080/"
        },
        "id": "FyB_Ec2AIeiL",
        "outputId": "fc165a57-fbe4-4825-ca6a-8462bf428f03"
      },
      "outputs": [
        {
          "data": {
            "text/plain": [
              "838.0"
            ]
          },
          "execution_count": 59,
          "metadata": {},
          "output_type": "execute_result"
        },
        {
          "data": {
            "text/plain": [
              "9"
            ]
          },
          "execution_count": 59,
          "metadata": {},
          "output_type": "execute_result"
        }
      ],
      "source": [
        "A = monte_carlo_simulation()[0]*5\n",
        "A = monte_carlo_simulation()[1]*1\n",
        "A\n",
        "B"
      ]
    },
    {
      "cell_type": "code",
      "execution_count": 67,
      "metadata": {
        "id": "aiNHccmh6jTF"
      },
      "outputs": [],
      "source": [
        "def monte_carlo_simulation(runs=1000):\n",
        "  results = np.zeros(2)\n",
        "  A = []\n",
        "  for _ in range(runs):\n",
        "    if roll_dice()==7:\n",
        "      A.append(_)\n",
        "      results[0] += 1\n",
        "    else: \n",
        "      results[1] += 1\n",
        "  return results"
      ]
    },
    {
      "cell_type": "code",
      "execution_count": 68,
      "metadata": {
        "id": "AKbpOU_oKJ79"
      },
      "outputs": [],
      "source": [
        "results = np.zeros(100)\n",
        "for i in range(100):\n",
        "  results[i] = monte_carlo_simulation()[0]"
      ]
    },
    {
      "cell_type": "code",
      "execution_count": 69,
      "metadata": {
        "colab": {
          "base_uri": "https://localhost:8080/"
        },
        "id": "0xDzcEAeKYae",
        "outputId": "17717f95-17fa-435b-f4ff-773c70616d09"
      },
      "outputs": [
        {
          "data": {
            "text/plain": [
              "array([167., 171., 188., 172., 173., 188., 155., 159., 168., 188., 176.,\n",
              "       202., 170., 159., 174., 171., 166., 180., 154., 159., 160., 172.,\n",
              "       165., 176., 175., 174., 170., 197., 155., 178., 184., 146., 167.,\n",
              "       173., 168., 167., 178., 164., 171., 178., 174., 182., 177., 157.,\n",
              "       145., 159., 187., 177., 179., 151., 173., 166., 167., 163., 169.,\n",
              "       188., 169., 180., 182., 175., 161., 192., 171., 161., 187., 162.,\n",
              "       174., 164., 168., 160., 166., 178., 172., 172., 164., 161., 161.,\n",
              "       156., 171., 168., 157., 156., 178., 175., 181., 139., 171., 159.,\n",
              "       208., 194., 153., 168., 174., 187., 158., 149., 158., 164., 158.,\n",
              "       165.])"
            ]
          },
          "execution_count": 69,
          "metadata": {},
          "output_type": "execute_result"
        }
      ],
      "source": [
        "results"
      ]
    },
    {
      "cell_type": "code",
      "execution_count": 70,
      "metadata": {
        "id": "fkQr58VuKhn2"
      },
      "outputs": [],
      "source": [
        "import matplotlib.pyplot as plt\n",
        "%matplotlib notebook\n",
        "%matplotlib inline"
      ]
    },
    {
      "cell_type": "code",
      "execution_count": 71,
      "metadata": {
        "colab": {
          "base_uri": "https://localhost:8080/",
          "height": 352
        },
        "id": "wSmCcbyQK0NK",
        "outputId": "ba3295df-2bca-4985-df8d-47a318e2d687"
      },
      "outputs": [
        {
          "data": {
            "text/plain": [
              "(array([ 1.,  2.,  2.,  8., 14., 11., 19., 15., 12.,  4.,  7.,  2.,  1.,\n",
              "         1.,  1.]),\n",
              " array([139. , 143.6, 148.2, 152.8, 157.4, 162. , 166.6, 171.2, 175.8,\n",
              "        180.4, 185. , 189.6, 194.2, 198.8, 203.4, 208. ]),\n",
              " <a list of 15 Patch objects>)"
            ]
          },
          "execution_count": 71,
          "metadata": {},
          "output_type": "execute_result"
        },
        {
          "data": {
            "image/png": "[encoded data removed]",
            "text/plain": [
              "<Figure size 432x288 with 1 Axes>"
            ]
          },
          "metadata": {
            "needs_background": "light"
          },
          "output_type": "display_data"
        }
      ],
      "source": [
        "fig, ax = plt.subplots()\n",
        "ax.hist(results, bins=15)"
      ]
    },
    {
      "cell_type": "code",
      "execution_count": 72,
      "metadata": {
        "colab": {
          "base_uri": "https://localhost:8080/"
        },
        "id": "J8y-QEAsMHxF",
        "outputId": "1f88986f-6790-4164-c82e-56ebf8df3e7c"
      },
      "outputs": [
        {
          "data": {
            "text/plain": [
              "169.99"
            ]
          },
          "execution_count": 72,
          "metadata": {},
          "output_type": "execute_result"
        }
      ],
      "source": [
        "results.mean()"
      ]
    },
    {
      "cell_type": "code",
      "execution_count": 73,
      "metadata": {
        "colab": {
          "base_uri": "https://localhost:8080/"
        },
        "id": "BVehYoRsMLib",
        "outputId": "21015358-aab6-4b8a-dc3b-9503f7884e10"
      },
      "outputs": [
        {
          "data": {
            "text/plain": [
              "849.95"
            ]
          },
          "execution_count": 73,
          "metadata": {},
          "output_type": "execute_result"
        }
      ],
      "source": [
        "# Earn\n",
        "results.mean()*5"
      ]
    },
    {
      "cell_type": "code",
      "execution_count": 74,
      "metadata": {
        "colab": {
          "base_uri": "https://localhost:8080/"
        },
        "id": "I_8O2olPMOf6",
        "outputId": "8680d2e0-0d6c-45d6-f67c-a0a08e96c897"
      },
      "outputs": [
        {
          "data": {
            "text/plain": [
              "830.01"
            ]
          },
          "execution_count": 74,
          "metadata": {},
          "output_type": "execute_result"
        }
      ],
      "source": [
        "# Lost\n",
        "(1000-results.mean())*1"
      ]
    },
    {
      "cell_type": "code",
      "execution_count": 75,
      "metadata": {
        "colab": {
          "base_uri": "https://localhost:8080/"
        },
        "id": "euQKzCALMRri",
        "outputId": "ea002e16-758c-4de3-f7d5-c5db63a62858"
      },
      "outputs": [
        {
          "data": {
            "text/plain": [
              "0.16999"
            ]
          },
          "execution_count": 75,
          "metadata": {},
          "output_type": "execute_result"
        }
      ],
      "source": [
        "results.mean()/1000"
      ]
    },
    {
      "cell_type": "code",
      "execution_count": 76,
      "metadata": {
        "colab": {
          "base_uri": "https://localhost:8080/"
        },
        "id": "u1bL5O0xNXND",
        "outputId": "2b4fe92f-bcea-4049-ba22-d4e4d040d135"
      },
      "outputs": [
        {
          "data": {
            "text/plain": [
              "array([1, 2, 3, 4, 5, 6])"
            ]
          },
          "execution_count": 76,
          "metadata": {},
          "output_type": "execute_result"
        },
        {
          "data": {
            "text/plain": [
              "array([1, 2, 3, 4, 5, 6])"
            ]
          },
          "execution_count": 76,
          "metadata": {},
          "output_type": "execute_result"
        }
      ],
      "source": [
        "d1 = np.arange(1,7)\n",
        "d1\n",
        "d2 = np.arange(1,7)\n",
        "d2"
      ]
    },
    {
      "cell_type": "code",
      "execution_count": 77,
      "metadata": {
        "colab": {
          "base_uri": "https://localhost:8080/"
        },
        "id": "pw27n8YNN4nO",
        "outputId": "c5f6e05f-0eca-4004-ca1e-f8d5d9fc39fd"
      },
      "outputs": [
        {
          "data": {
            "text/plain": [
              "array([[ 2,  3,  4,  5,  6,  7],\n",
              "       [ 3,  4,  5,  6,  7,  8],\n",
              "       [ 4,  5,  6,  7,  8,  9],\n",
              "       [ 5,  6,  7,  8,  9, 10],\n",
              "       [ 6,  7,  8,  9, 10, 11],\n",
              "       [ 7,  8,  9, 10, 11, 12]])"
            ]
          },
          "execution_count": 77,
          "metadata": {},
          "output_type": "execute_result"
        }
      ],
      "source": [
        "mat = np.add.outer(d1,d2)\n",
        "mat"
      ]
    },
    {
      "cell_type": "code",
      "execution_count": 78,
      "metadata": {
        "colab": {
          "base_uri": "https://localhost:8080/"
        },
        "id": "bnN1XXUvNwU1",
        "outputId": "9e6e23e1-5cf9-48d3-c3cb-b9fdeeeb07da"
      },
      "outputs": [
        {
          "data": {
            "text/plain": [
              "36"
            ]
          },
          "execution_count": 78,
          "metadata": {},
          "output_type": "execute_result"
        }
      ],
      "source": [
        "mat.size"
      ]
    },
    {
      "cell_type": "code",
      "execution_count": 79,
      "metadata": {
        "colab": {
          "base_uri": "https://localhost:8080/"
        },
        "id": "EaKJ1b25NyRi",
        "outputId": "fc4ecfd8-f6b4-43c9-eeb9-a7f35fa0729a"
      },
      "outputs": [
        {
          "data": {
            "text/plain": [
              "6"
            ]
          },
          "execution_count": 79,
          "metadata": {},
          "output_type": "execute_result"
        }
      ],
      "source": [
        "mat[mat == 7].size"
      ]
    },
    {
      "cell_type": "code",
      "execution_count": 80,
      "metadata": {
        "colab": {
          "base_uri": "https://localhost:8080/"
        },
        "id": "3X6cnxiMN1Lr",
        "outputId": "9a34b819-f8b1-4981-e041-fe1497b26823"
      },
      "outputs": [
        {
          "data": {
            "text/plain": [
              "0.16666666666666666"
            ]
          },
          "execution_count": 80,
          "metadata": {},
          "output_type": "execute_result"
        }
      ],
      "source": [
        "mat[mat == 7].size/mat.size"
      ]
    }
  ],
  "metadata": {
    "colab": {
      "collapsed_sections": [],
      "name": "Monte Carlo Simulation.ipynb",
      "provenance": []
    },
    "kernelspec": {
      "display_name": "Python 3",
      "name": "python3"
    },
    "language_info": {
      "name": "python"
    }
  },
  "nbformat": 4,
  "nbformat_minor": 0
}
