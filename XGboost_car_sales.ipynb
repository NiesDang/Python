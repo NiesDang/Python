{
  "nbformat": 4,
  "nbformat_minor": 0,
  "metadata": {
    "colab": {
      "name": "XGboost_car_sales.ipynb",
      "provenance": [],
      "collapsed_sections": []
    },
    "kernelspec": {
      "name": "python3",
      "display_name": "Python 3"
    },
    "language_info": {
      "name": "python"
    }
  },
  "cells": [
    {
      "cell_type": "markdown",
      "source": [
        "##Import Libraries and Dataset"
      ],
      "metadata": {
        "id": "ULEWQj_xjWSf"
      }
    },
    {
      "cell_type": "code",
      "execution_count": null,
      "metadata": {
        "id": "wI_ab3-ArV8o"
      },
      "outputs": [],
      "source": [
        "import pandas as pd\n",
        "import numpy as np\n",
        "\n",
        "from xgboost import XGBRegressor\n",
        "\n",
        "from sklearn.model_selection import GridSearchCV\n",
        "\n",
        "from sklearn.metrics import mean_squared_error\n",
        "import matplotlib.pyplot as plt"
      ]
    },
    {
      "cell_type": "code",
      "source": [
        "df= pd.read_csv(\"/content/norway_new_car_sales_by_make.csv\")\n",
        "df"
      ],
      "metadata": {
        "colab": {
          "base_uri": "https://localhost:8080/",
          "height": 423
        },
        "id": "31A9ri4rrp1H",
        "outputId": "2bad75e0-3271-435c-8fa6-0809fd3511cd"
      },
      "execution_count": null,
      "outputs": [
        {
          "output_type": "execute_result",
          "data": {
            "text/plain": [
              "      Year  Month        Make  Quantity   Pct\n",
              "0     2007      1      Toyota      2884  22.7\n",
              "1     2007      1  Volkswagen      2521  19.9\n",
              "2     2007      1     Peugeot      1029   8.1\n",
              "3     2007      1        Ford       870   6.9\n",
              "4     2007      1       Volvo       693   5.5\n",
              "...    ...    ...         ...       ...   ...\n",
              "4372  2017      1     Nilsson         3   0.0\n",
              "4373  2017      1    Maserati         2   0.0\n",
              "4374  2017      1     Ferrari         1   0.0\n",
              "4375  2017      1       Smart         1   0.0\n",
              "4376  2017      1   Ssangyong         1   0.0\n",
              "\n",
              "[4377 rows x 5 columns]"
            ],
            "text/html": [
              "\n",
              "  <div id=\"df-11b7bffe-1e85-4eb9-9609-4475143b7b4c\">\n",
              "    <div class=\"colab-df-container\">\n",
              "      <div>\n",
              "<style scoped>\n",
              "    .dataframe tbody tr th:only-of-type {\n",
              "        vertical-align: middle;\n",
              "    }\n",
              "\n",
              "    .dataframe tbody tr th {\n",
              "        vertical-align: top;\n",
              "    }\n",
              "\n",
              "    .dataframe thead th {\n",
              "        text-align: right;\n",
              "    }\n",
              "</style>\n",
              "<table border=\"1\" class=\"dataframe\">\n",
              "  <thead>\n",
              "    <tr style=\"text-align: right;\">\n",
              "      <th></th>\n",
              "      <th>Year</th>\n",
              "      <th>Month</th>\n",
              "      <th>Make</th>\n",
              "      <th>Quantity</th>\n",
              "      <th>Pct</th>\n",
              "    </tr>\n",
              "  </thead>\n",
              "  <tbody>\n",
              "    <tr>\n",
              "      <th>0</th>\n",
              "      <td>2007</td>\n",
              "      <td>1</td>\n",
              "      <td>Toyota</td>\n",
              "      <td>2884</td>\n",
              "      <td>22.7</td>\n",
              "    </tr>\n",
              "    <tr>\n",
              "      <th>1</th>\n",
              "      <td>2007</td>\n",
              "      <td>1</td>\n",
              "      <td>Volkswagen</td>\n",
              "      <td>2521</td>\n",
              "      <td>19.9</td>\n",
              "    </tr>\n",
              "    <tr>\n",
              "      <th>2</th>\n",
              "      <td>2007</td>\n",
              "      <td>1</td>\n",
              "      <td>Peugeot</td>\n",
              "      <td>1029</td>\n",
              "      <td>8.1</td>\n",
              "    </tr>\n",
              "    <tr>\n",
              "      <th>3</th>\n",
              "      <td>2007</td>\n",
              "      <td>1</td>\n",
              "      <td>Ford</td>\n",
              "      <td>870</td>\n",
              "      <td>6.9</td>\n",
              "    </tr>\n",
              "    <tr>\n",
              "      <th>4</th>\n",
              "      <td>2007</td>\n",
              "      <td>1</td>\n",
              "      <td>Volvo</td>\n",
              "      <td>693</td>\n",
              "      <td>5.5</td>\n",
              "    </tr>\n",
              "    <tr>\n",
              "      <th>...</th>\n",
              "      <td>...</td>\n",
              "      <td>...</td>\n",
              "      <td>...</td>\n",
              "      <td>...</td>\n",
              "      <td>...</td>\n",
              "    </tr>\n",
              "    <tr>\n",
              "      <th>4372</th>\n",
              "      <td>2017</td>\n",
              "      <td>1</td>\n",
              "      <td>Nilsson</td>\n",
              "      <td>3</td>\n",
              "      <td>0.0</td>\n",
              "    </tr>\n",
              "    <tr>\n",
              "      <th>4373</th>\n",
              "      <td>2017</td>\n",
              "      <td>1</td>\n",
              "      <td>Maserati</td>\n",
              "      <td>2</td>\n",
              "      <td>0.0</td>\n",
              "    </tr>\n",
              "    <tr>\n",
              "      <th>4374</th>\n",
              "      <td>2017</td>\n",
              "      <td>1</td>\n",
              "      <td>Ferrari</td>\n",
              "      <td>1</td>\n",
              "      <td>0.0</td>\n",
              "    </tr>\n",
              "    <tr>\n",
              "      <th>4375</th>\n",
              "      <td>2017</td>\n",
              "      <td>1</td>\n",
              "      <td>Smart</td>\n",
              "      <td>1</td>\n",
              "      <td>0.0</td>\n",
              "    </tr>\n",
              "    <tr>\n",
              "      <th>4376</th>\n",
              "      <td>2017</td>\n",
              "      <td>1</td>\n",
              "      <td>Ssangyong</td>\n",
              "      <td>1</td>\n",
              "      <td>0.0</td>\n",
              "    </tr>\n",
              "  </tbody>\n",
              "</table>\n",
              "<p>4377 rows × 5 columns</p>\n",
              "</div>\n",
              "      <button class=\"colab-df-convert\" onclick=\"convertToInteractive('df-11b7bffe-1e85-4eb9-9609-4475143b7b4c')\"\n",
              "              title=\"Convert this dataframe to an interactive table.\"\n",
              "              style=\"display:none;\">\n",
              "        \n",
              "  <svg xmlns=\"http://www.w3.org/2000/svg\" height=\"24px\"viewBox=\"0 0 24 24\"\n",
              "       width=\"24px\">\n",
              "    <path d=\"M0 0h24v24H0V0z\" fill=\"none\"/>\n",
              "    <path d=\"M18.56 5.44l.94 2.06.94-2.06 2.06-.94-2.06-.94-.94-2.06-.94 2.06-2.06.94zm-11 1L8.5 8.5l.94-2.06 2.06-.94-2.06-.94L8.5 2.5l-.94 2.06-2.06.94zm10 10l.94 2.06.94-2.06 2.06-.94-2.06-.94-.94-2.06-.94 2.06-2.06.94z\"/><path d=\"M17.41 7.96l-1.37-1.37c-.4-.4-.92-.59-1.43-.59-.52 0-1.04.2-1.43.59L10.3 9.45l-7.72 7.72c-.78.78-.78 2.05 0 2.83L4 21.41c.39.39.9.59 1.41.59.51 0 1.02-.2 1.41-.59l7.78-7.78 2.81-2.81c.8-.78.8-2.07 0-2.86zM5.41 20L4 18.59l7.72-7.72 1.47 1.35L5.41 20z\"/>\n",
              "  </svg>\n",
              "      </button>\n",
              "      \n",
              "  <style>\n",
              "    .colab-df-container {\n",
              "      display:flex;\n",
              "      flex-wrap:wrap;\n",
              "      gap: 12px;\n",
              "    }\n",
              "\n",
              "    .colab-df-convert {\n",
              "      background-color: #E8F0FE;\n",
              "      border: none;\n",
              "      border-radius: 50%;\n",
              "      cursor: pointer;\n",
              "      display: none;\n",
              "      fill: #1967D2;\n",
              "      height: 32px;\n",
              "      padding: 0 0 0 0;\n",
              "      width: 32px;\n",
              "    }\n",
              "\n",
              "    .colab-df-convert:hover {\n",
              "      background-color: #E2EBFA;\n",
              "      box-shadow: 0px 1px 2px rgba(60, 64, 67, 0.3), 0px 1px 3px 1px rgba(60, 64, 67, 0.15);\n",
              "      fill: #174EA6;\n",
              "    }\n",
              "\n",
              "    [theme=dark] .colab-df-convert {\n",
              "      background-color: #3B4455;\n",
              "      fill: #D2E3FC;\n",
              "    }\n",
              "\n",
              "    [theme=dark] .colab-df-convert:hover {\n",
              "      background-color: #434B5C;\n",
              "      box-shadow: 0px 1px 3px 1px rgba(0, 0, 0, 0.15);\n",
              "      filter: drop-shadow(0px 1px 2px rgba(0, 0, 0, 0.3));\n",
              "      fill: #FFFFFF;\n",
              "    }\n",
              "  </style>\n",
              "\n",
              "      <script>\n",
              "        const buttonEl =\n",
              "          document.querySelector('#df-11b7bffe-1e85-4eb9-9609-4475143b7b4c button.colab-df-convert');\n",
              "        buttonEl.style.display =\n",
              "          google.colab.kernel.accessAllowed ? 'block' : 'none';\n",
              "\n",
              "        async function convertToInteractive(key) {\n",
              "          const element = document.querySelector('#df-11b7bffe-1e85-4eb9-9609-4475143b7b4c');\n",
              "          const dataTable =\n",
              "            await google.colab.kernel.invokeFunction('convertToInteractive',\n",
              "                                                     [key], {});\n",
              "          if (!dataTable) return;\n",
              "\n",
              "          const docLinkHtml = 'Like what you see? Visit the ' +\n",
              "            '<a target=\"_blank\" href=https://colab.research.google.com/notebooks/data_table.ipynb>data table notebook</a>'\n",
              "            + ' to learn more about interactive tables.';\n",
              "          element.innerHTML = '';\n",
              "          dataTable['output_type'] = 'display_data';\n",
              "          await google.colab.output.renderOutput(dataTable, element);\n",
              "          const docLink = document.createElement('div');\n",
              "          docLink.innerHTML = docLinkHtml;\n",
              "          element.appendChild(docLink);\n",
              "        }\n",
              "      </script>\n",
              "    </div>\n",
              "  </div>\n",
              "  "
            ]
          },
          "metadata": {},
          "execution_count": 2
        }
      ]
    },
    {
      "cell_type": "code",
      "source": [
        "df[\"Period\"] = df[\"Year\"].astype(str) + \"-\" + df[\"Month\"].astype(str).str.zfill(2)"
      ],
      "metadata": {
        "id": "WoP8Y1kjuk4D"
      },
      "execution_count": null,
      "outputs": []
    },
    {
      "cell_type": "code",
      "source": [
        "df.drop([\"Pct\", \"Year\", \"Month\"],axis=1, inplace=True)"
      ],
      "metadata": {
        "id": "6yTccuFrvIir"
      },
      "execution_count": null,
      "outputs": []
    },
    {
      "cell_type": "code",
      "source": [
        "df= df.pivot_table(index='Make', columns='Period', values='Quantity', fill_value=0)\n",
        "df"
      ],
      "metadata": {
        "colab": {
          "base_uri": "https://localhost:8080/",
          "height": 553
        },
        "id": "KrCyt_c4vlfX",
        "outputId": "514477a9-f69f-49b1-d83c-e9c67bf0a9bd"
      },
      "execution_count": null,
      "outputs": [
        {
          "output_type": "execute_result",
          "data": {
            "text/plain": [
              "Period        2007-01  2007-02  2007-03  2007-04  2007-05  2007-06  2007-07  \\\n",
              "Make                                                                          \n",
              "Alfa Romeo         16        9       21       20       17       21       14   \n",
              "Aston Martin        0        0        1        0        4        3        3   \n",
              "Audi              599      498      682      556      630      498      562   \n",
              "BMW               352      335      365      360      431      477      403   \n",
              "Bentley             0        0        0        0        0        1        0   \n",
              "...               ...      ...      ...      ...      ...      ...      ...   \n",
              "Think               2        0        0        1        0        0        0   \n",
              "Toyota           2884     1885     1833     1300     1866     1620     1901   \n",
              "Volkswagen       2521     1517     1428     1257     1934     1531     1777   \n",
              "Volvo             693      570      656      587      805      662     1064   \n",
              "Westfield           0        0        0        0        0        0        0   \n",
              "\n",
              "Period        2007-08  2007-09  2007-10  ...  2016-04  2016-05  2016-06  \\\n",
              "Make                                     ...                              \n",
              "Alfa Romeo         12       15       10  ...        3        1        2   \n",
              "Aston Martin        0        0        0  ...        0        0        1   \n",
              "Audi              590      393      554  ...      685      540      551   \n",
              "BMW               348      271      562  ...     1052      832      808   \n",
              "Bentley             0        0        0  ...        0        0        1   \n",
              "...               ...      ...      ...  ...      ...      ...      ...   \n",
              "Think               1        0        0  ...        0        0        0   \n",
              "Toyota           1783     1303     1648  ...     1432     1687     1603   \n",
              "Volkswagen       1665     1373     1941  ...     3017     2222     2287   \n",
              "Volvo             498      662     1014  ...      748      619      766   \n",
              "Westfield           0        0        0  ...        0        0        0   \n",
              "\n",
              "Period        2016-07  2016-08  2016-09  2016-10  2016-11  2016-12  2017-01  \n",
              "Make                                                                         \n",
              "Alfa Romeo          1        6       15        3        4        3        6  \n",
              "Aston Martin        0        0        0        0        0        0        0  \n",
              "Audi              687      794      688      603      645      827      565  \n",
              "BMW               636     1031     1193     1096     1663      866     1540  \n",
              "Bentley             1        1        0        0        0        0        0  \n",
              "...               ...      ...      ...      ...      ...      ...      ...  \n",
              "Think               0        0        0        0        0        0        0  \n",
              "Toyota           1127     1824     1823     1327     1375     1238     1526  \n",
              "Volkswagen       2076     2359     2084     2161     2106     2239     1688  \n",
              "Volvo             635      463      763      732      754     1235     1158  \n",
              "Westfield           0        0        0        0        0        0        0  \n",
              "\n",
              "[65 rows x 121 columns]"
            ],
            "text/html": [
              "\n",
              "  <div id=\"df-76c18e52-bead-4d36-924f-cd16e013ad1c\">\n",
              "    <div class=\"colab-df-container\">\n",
              "      <div>\n",
              "<style scoped>\n",
              "    .dataframe tbody tr th:only-of-type {\n",
              "        vertical-align: middle;\n",
              "    }\n",
              "\n",
              "    .dataframe tbody tr th {\n",
              "        vertical-align: top;\n",
              "    }\n",
              "\n",
              "    .dataframe thead th {\n",
              "        text-align: right;\n",
              "    }\n",
              "</style>\n",
              "<table border=\"1\" class=\"dataframe\">\n",
              "  <thead>\n",
              "    <tr style=\"text-align: right;\">\n",
              "      <th>Period</th>\n",
              "      <th>2007-01</th>\n",
              "      <th>2007-02</th>\n",
              "      <th>2007-03</th>\n",
              "      <th>2007-04</th>\n",
              "      <th>2007-05</th>\n",
              "      <th>2007-06</th>\n",
              "      <th>2007-07</th>\n",
              "      <th>2007-08</th>\n",
              "      <th>2007-09</th>\n",
              "      <th>2007-10</th>\n",
              "      <th>...</th>\n",
              "      <th>2016-04</th>\n",
              "      <th>2016-05</th>\n",
              "      <th>2016-06</th>\n",
              "      <th>2016-07</th>\n",
              "      <th>2016-08</th>\n",
              "      <th>2016-09</th>\n",
              "      <th>2016-10</th>\n",
              "      <th>2016-11</th>\n",
              "      <th>2016-12</th>\n",
              "      <th>2017-01</th>\n",
              "    </tr>\n",
              "    <tr>\n",
              "      <th>Make</th>\n",
              "      <th></th>\n",
              "      <th></th>\n",
              "      <th></th>\n",
              "      <th></th>\n",
              "      <th></th>\n",
              "      <th></th>\n",
              "      <th></th>\n",
              "      <th></th>\n",
              "      <th></th>\n",
              "      <th></th>\n",
              "      <th></th>\n",
              "      <th></th>\n",
              "      <th></th>\n",
              "      <th></th>\n",
              "      <th></th>\n",
              "      <th></th>\n",
              "      <th></th>\n",
              "      <th></th>\n",
              "      <th></th>\n",
              "      <th></th>\n",
              "      <th></th>\n",
              "    </tr>\n",
              "  </thead>\n",
              "  <tbody>\n",
              "    <tr>\n",
              "      <th>Alfa Romeo</th>\n",
              "      <td>16</td>\n",
              "      <td>9</td>\n",
              "      <td>21</td>\n",
              "      <td>20</td>\n",
              "      <td>17</td>\n",
              "      <td>21</td>\n",
              "      <td>14</td>\n",
              "      <td>12</td>\n",
              "      <td>15</td>\n",
              "      <td>10</td>\n",
              "      <td>...</td>\n",
              "      <td>3</td>\n",
              "      <td>1</td>\n",
              "      <td>2</td>\n",
              "      <td>1</td>\n",
              "      <td>6</td>\n",
              "      <td>15</td>\n",
              "      <td>3</td>\n",
              "      <td>4</td>\n",
              "      <td>3</td>\n",
              "      <td>6</td>\n",
              "    </tr>\n",
              "    <tr>\n",
              "      <th>Aston Martin</th>\n",
              "      <td>0</td>\n",
              "      <td>0</td>\n",
              "      <td>1</td>\n",
              "      <td>0</td>\n",
              "      <td>4</td>\n",
              "      <td>3</td>\n",
              "      <td>3</td>\n",
              "      <td>0</td>\n",
              "      <td>0</td>\n",
              "      <td>0</td>\n",
              "      <td>...</td>\n",
              "      <td>0</td>\n",
              "      <td>0</td>\n",
              "      <td>1</td>\n",
              "      <td>0</td>\n",
              "      <td>0</td>\n",
              "      <td>0</td>\n",
              "      <td>0</td>\n",
              "      <td>0</td>\n",
              "      <td>0</td>\n",
              "      <td>0</td>\n",
              "    </tr>\n",
              "    <tr>\n",
              "      <th>Audi</th>\n",
              "      <td>599</td>\n",
              "      <td>498</td>\n",
              "      <td>682</td>\n",
              "      <td>556</td>\n",
              "      <td>630</td>\n",
              "      <td>498</td>\n",
              "      <td>562</td>\n",
              "      <td>590</td>\n",
              "      <td>393</td>\n",
              "      <td>554</td>\n",
              "      <td>...</td>\n",
              "      <td>685</td>\n",
              "      <td>540</td>\n",
              "      <td>551</td>\n",
              "      <td>687</td>\n",
              "      <td>794</td>\n",
              "      <td>688</td>\n",
              "      <td>603</td>\n",
              "      <td>645</td>\n",
              "      <td>827</td>\n",
              "      <td>565</td>\n",
              "    </tr>\n",
              "    <tr>\n",
              "      <th>BMW</th>\n",
              "      <td>352</td>\n",
              "      <td>335</td>\n",
              "      <td>365</td>\n",
              "      <td>360</td>\n",
              "      <td>431</td>\n",
              "      <td>477</td>\n",
              "      <td>403</td>\n",
              "      <td>348</td>\n",
              "      <td>271</td>\n",
              "      <td>562</td>\n",
              "      <td>...</td>\n",
              "      <td>1052</td>\n",
              "      <td>832</td>\n",
              "      <td>808</td>\n",
              "      <td>636</td>\n",
              "      <td>1031</td>\n",
              "      <td>1193</td>\n",
              "      <td>1096</td>\n",
              "      <td>1663</td>\n",
              "      <td>866</td>\n",
              "      <td>1540</td>\n",
              "    </tr>\n",
              "    <tr>\n",
              "      <th>Bentley</th>\n",
              "      <td>0</td>\n",
              "      <td>0</td>\n",
              "      <td>0</td>\n",
              "      <td>0</td>\n",
              "      <td>0</td>\n",
              "      <td>1</td>\n",
              "      <td>0</td>\n",
              "      <td>0</td>\n",
              "      <td>0</td>\n",
              "      <td>0</td>\n",
              "      <td>...</td>\n",
              "      <td>0</td>\n",
              "      <td>0</td>\n",
              "      <td>1</td>\n",
              "      <td>1</td>\n",
              "      <td>1</td>\n",
              "      <td>0</td>\n",
              "      <td>0</td>\n",
              "      <td>0</td>\n",
              "      <td>0</td>\n",
              "      <td>0</td>\n",
              "    </tr>\n",
              "    <tr>\n",
              "      <th>...</th>\n",
              "      <td>...</td>\n",
              "      <td>...</td>\n",
              "      <td>...</td>\n",
              "      <td>...</td>\n",
              "      <td>...</td>\n",
              "      <td>...</td>\n",
              "      <td>...</td>\n",
              "      <td>...</td>\n",
              "      <td>...</td>\n",
              "      <td>...</td>\n",
              "      <td>...</td>\n",
              "      <td>...</td>\n",
              "      <td>...</td>\n",
              "      <td>...</td>\n",
              "      <td>...</td>\n",
              "      <td>...</td>\n",
              "      <td>...</td>\n",
              "      <td>...</td>\n",
              "      <td>...</td>\n",
              "      <td>...</td>\n",
              "      <td>...</td>\n",
              "    </tr>\n",
              "    <tr>\n",
              "      <th>Think</th>\n",
              "      <td>2</td>\n",
              "      <td>0</td>\n",
              "      <td>0</td>\n",
              "      <td>1</td>\n",
              "      <td>0</td>\n",
              "      <td>0</td>\n",
              "      <td>0</td>\n",
              "      <td>1</td>\n",
              "      <td>0</td>\n",
              "      <td>0</td>\n",
              "      <td>...</td>\n",
              "      <td>0</td>\n",
              "      <td>0</td>\n",
              "      <td>0</td>\n",
              "      <td>0</td>\n",
              "      <td>0</td>\n",
              "      <td>0</td>\n",
              "      <td>0</td>\n",
              "      <td>0</td>\n",
              "      <td>0</td>\n",
              "      <td>0</td>\n",
              "    </tr>\n",
              "    <tr>\n",
              "      <th>Toyota</th>\n",
              "      <td>2884</td>\n",
              "      <td>1885</td>\n",
              "      <td>1833</td>\n",
              "      <td>1300</td>\n",
              "      <td>1866</td>\n",
              "      <td>1620</td>\n",
              "      <td>1901</td>\n",
              "      <td>1783</td>\n",
              "      <td>1303</td>\n",
              "      <td>1648</td>\n",
              "      <td>...</td>\n",
              "      <td>1432</td>\n",
              "      <td>1687</td>\n",
              "      <td>1603</td>\n",
              "      <td>1127</td>\n",
              "      <td>1824</td>\n",
              "      <td>1823</td>\n",
              "      <td>1327</td>\n",
              "      <td>1375</td>\n",
              "      <td>1238</td>\n",
              "      <td>1526</td>\n",
              "    </tr>\n",
              "    <tr>\n",
              "      <th>Volkswagen</th>\n",
              "      <td>2521</td>\n",
              "      <td>1517</td>\n",
              "      <td>1428</td>\n",
              "      <td>1257</td>\n",
              "      <td>1934</td>\n",
              "      <td>1531</td>\n",
              "      <td>1777</td>\n",
              "      <td>1665</td>\n",
              "      <td>1373</td>\n",
              "      <td>1941</td>\n",
              "      <td>...</td>\n",
              "      <td>3017</td>\n",
              "      <td>2222</td>\n",
              "      <td>2287</td>\n",
              "      <td>2076</td>\n",
              "      <td>2359</td>\n",
              "      <td>2084</td>\n",
              "      <td>2161</td>\n",
              "      <td>2106</td>\n",
              "      <td>2239</td>\n",
              "      <td>1688</td>\n",
              "    </tr>\n",
              "    <tr>\n",
              "      <th>Volvo</th>\n",
              "      <td>693</td>\n",
              "      <td>570</td>\n",
              "      <td>656</td>\n",
              "      <td>587</td>\n",
              "      <td>805</td>\n",
              "      <td>662</td>\n",
              "      <td>1064</td>\n",
              "      <td>498</td>\n",
              "      <td>662</td>\n",
              "      <td>1014</td>\n",
              "      <td>...</td>\n",
              "      <td>748</td>\n",
              "      <td>619</td>\n",
              "      <td>766</td>\n",
              "      <td>635</td>\n",
              "      <td>463</td>\n",
              "      <td>763</td>\n",
              "      <td>732</td>\n",
              "      <td>754</td>\n",
              "      <td>1235</td>\n",
              "      <td>1158</td>\n",
              "    </tr>\n",
              "    <tr>\n",
              "      <th>Westfield</th>\n",
              "      <td>0</td>\n",
              "      <td>0</td>\n",
              "      <td>0</td>\n",
              "      <td>0</td>\n",
              "      <td>0</td>\n",
              "      <td>0</td>\n",
              "      <td>0</td>\n",
              "      <td>0</td>\n",
              "      <td>0</td>\n",
              "      <td>0</td>\n",
              "      <td>...</td>\n",
              "      <td>0</td>\n",
              "      <td>0</td>\n",
              "      <td>0</td>\n",
              "      <td>0</td>\n",
              "      <td>0</td>\n",
              "      <td>0</td>\n",
              "      <td>0</td>\n",
              "      <td>0</td>\n",
              "      <td>0</td>\n",
              "      <td>0</td>\n",
              "    </tr>\n",
              "  </tbody>\n",
              "</table>\n",
              "<p>65 rows × 121 columns</p>\n",
              "</div>\n",
              "      <button class=\"colab-df-convert\" onclick=\"convertToInteractive('df-76c18e52-bead-4d36-924f-cd16e013ad1c')\"\n",
              "              title=\"Convert this dataframe to an interactive table.\"\n",
              "              style=\"display:none;\">\n",
              "        \n",
              "  <svg xmlns=\"http://www.w3.org/2000/svg\" height=\"24px\"viewBox=\"0 0 24 24\"\n",
              "       width=\"24px\">\n",
              "    <path d=\"M0 0h24v24H0V0z\" fill=\"none\"/>\n",
              "    <path d=\"M18.56 5.44l.94 2.06.94-2.06 2.06-.94-2.06-.94-.94-2.06-.94 2.06-2.06.94zm-11 1L8.5 8.5l.94-2.06 2.06-.94-2.06-.94L8.5 2.5l-.94 2.06-2.06.94zm10 10l.94 2.06.94-2.06 2.06-.94-2.06-.94-.94-2.06-.94 2.06-2.06.94z\"/><path d=\"M17.41 7.96l-1.37-1.37c-.4-.4-.92-.59-1.43-.59-.52 0-1.04.2-1.43.59L10.3 9.45l-7.72 7.72c-.78.78-.78 2.05 0 2.83L4 21.41c.39.39.9.59 1.41.59.51 0 1.02-.2 1.41-.59l7.78-7.78 2.81-2.81c.8-.78.8-2.07 0-2.86zM5.41 20L4 18.59l7.72-7.72 1.47 1.35L5.41 20z\"/>\n",
              "  </svg>\n",
              "      </button>\n",
              "      \n",
              "  <style>\n",
              "    .colab-df-container {\n",
              "      display:flex;\n",
              "      flex-wrap:wrap;\n",
              "      gap: 12px;\n",
              "    }\n",
              "\n",
              "    .colab-df-convert {\n",
              "      background-color: #E8F0FE;\n",
              "      border: none;\n",
              "      border-radius: 50%;\n",
              "      cursor: pointer;\n",
              "      display: none;\n",
              "      fill: #1967D2;\n",
              "      height: 32px;\n",
              "      padding: 0 0 0 0;\n",
              "      width: 32px;\n",
              "    }\n",
              "\n",
              "    .colab-df-convert:hover {\n",
              "      background-color: #E2EBFA;\n",
              "      box-shadow: 0px 1px 2px rgba(60, 64, 67, 0.3), 0px 1px 3px 1px rgba(60, 64, 67, 0.15);\n",
              "      fill: #174EA6;\n",
              "    }\n",
              "\n",
              "    [theme=dark] .colab-df-convert {\n",
              "      background-color: #3B4455;\n",
              "      fill: #D2E3FC;\n",
              "    }\n",
              "\n",
              "    [theme=dark] .colab-df-convert:hover {\n",
              "      background-color: #434B5C;\n",
              "      box-shadow: 0px 1px 3px 1px rgba(0, 0, 0, 0.15);\n",
              "      filter: drop-shadow(0px 1px 2px rgba(0, 0, 0, 0.3));\n",
              "      fill: #FFFFFF;\n",
              "    }\n",
              "  </style>\n",
              "\n",
              "      <script>\n",
              "        const buttonEl =\n",
              "          document.querySelector('#df-76c18e52-bead-4d36-924f-cd16e013ad1c button.colab-df-convert');\n",
              "        buttonEl.style.display =\n",
              "          google.colab.kernel.accessAllowed ? 'block' : 'none';\n",
              "\n",
              "        async function convertToInteractive(key) {\n",
              "          const element = document.querySelector('#df-76c18e52-bead-4d36-924f-cd16e013ad1c');\n",
              "          const dataTable =\n",
              "            await google.colab.kernel.invokeFunction('convertToInteractive',\n",
              "                                                     [key], {});\n",
              "          if (!dataTable) return;\n",
              "\n",
              "          const docLinkHtml = 'Like what you see? Visit the ' +\n",
              "            '<a target=\"_blank\" href=https://colab.research.google.com/notebooks/data_table.ipynb>data table notebook</a>'\n",
              "            + ' to learn more about interactive tables.';\n",
              "          element.innerHTML = '';\n",
              "          dataTable['output_type'] = 'display_data';\n",
              "          await google.colab.output.renderOutput(dataTable, element);\n",
              "          const docLink = document.createElement('div');\n",
              "          docLink.innerHTML = docLinkHtml;\n",
              "          element.appendChild(docLink);\n",
              "        }\n",
              "      </script>\n",
              "    </div>\n",
              "  </div>\n",
              "  "
            ]
          },
          "metadata": {},
          "execution_count": 5
        }
      ]
    },
    {
      "cell_type": "markdown",
      "source": [
        "##Define and Split Train & Test Data"
      ],
      "metadata": {
        "id": "msg6ttgDjgUK"
      }
    },
    {
      "cell_type": "code",
      "source": [
        "def datasets(df, x_len=12, y_len=1, test_loops=12):\n",
        "  D= df.values\n",
        "  rows, periods = D.shape\n",
        "\n",
        "  loops= periods + 1 - x_len - y_len\n",
        "  train = []\n",
        "  for col in range(loops):\n",
        "    train.append(D[:,col:col + x_len + y_len])\n",
        "  train = np.vstack(train)\n",
        "  X_train, Y_train = np.split(train, [-y_len], axis=1)\n",
        "\n",
        "  if test_loops > 0:\n",
        "    X_train, X_test = np.split(X_train, [-rows + test_loops], axis= 0)\n",
        "    Y_train, Y_test = np.split(Y_train, [-rows + test_loops], axis= 0)\n",
        "  else:\n",
        "    X_test = D[:, -x_len:]\n",
        "    Y_test = np.full((X_test.shape[0], y_len), np.nan)\n",
        "  \n",
        "  if y_len ==1:\n",
        "    Y_train = Y_train.ravel()\n",
        "    Y_test = Y_test.ravel()\n",
        "  \n",
        "  return X_train, Y_train, X_test, Y_test"
      ],
      "metadata": {
        "id": "6gzBZR294gq_"
      },
      "execution_count": null,
      "outputs": []
    },
    {
      "cell_type": "code",
      "source": [
        "X_train, Y_train, X_test, Y_test = datasets(df, x_len=12, y_len=1, test_loops=12)"
      ],
      "metadata": {
        "id": "NsAv9LM9ttgn"
      },
      "execution_count": null,
      "outputs": []
    },
    {
      "cell_type": "markdown",
      "source": [
        "##Adaptive Boosting"
      ],
      "metadata": {
        "id": "nhG9wlGKcfs2"
      }
    },
    {
      "cell_type": "code",
      "source": [
        "xgbreg = XGBRegressor()\n",
        "xgbreg.fit(X_train,Y_train)"
      ],
      "metadata": {
        "colab": {
          "base_uri": "https://localhost:8080/"
        },
        "id": "JAvokoiABkqR",
        "outputId": "ec992c3b-231a-4463-869b-6ac032cf34f5"
      },
      "execution_count": null,
      "outputs": [
        {
          "output_type": "stream",
          "name": "stdout",
          "text": [
            "[22:50:01] WARNING: /workspace/src/objective/regression_obj.cu:152: reg:linear is now deprecated in favor of reg:squarederror.\n"
          ]
        },
        {
          "output_type": "execute_result",
          "data": {
            "text/plain": [
              "XGBRegressor()"
            ]
          },
          "metadata": {},
          "execution_count": 8
        }
      ]
    },
    {
      "cell_type": "code",
      "source": [
        "y_pred= xgbreg.predict(X_test)"
      ],
      "metadata": {
        "id": "KZAS_5Yi4jNE"
      },
      "execution_count": null,
      "outputs": []
    },
    {
      "cell_type": "code",
      "source": [
        "mean_squared_error(y_pred, Y_test, squared= False)"
      ],
      "metadata": {
        "colab": {
          "base_uri": "https://localhost:8080/"
        },
        "id": "4GocVK495VHo",
        "outputId": "4c25fcf4-f812-47cc-a8b8-fab5156fef70"
      },
      "execution_count": null,
      "outputs": [
        {
          "output_type": "execute_result",
          "data": {
            "text/plain": [
              "132.2845633896085"
            ]
          },
          "metadata": {},
          "execution_count": 10
        }
      ]
    },
    {
      "cell_type": "code",
      "source": [
        "from sklearn.metrics import r2_score\n",
        "r2_score(Y_test, y_pred)"
      ],
      "metadata": {
        "colab": {
          "base_uri": "https://localhost:8080/"
        },
        "id": "SVHlJLZ7Q4WC",
        "outputId": "ea0a7235-bfd6-4dee-ac3a-bd9283cd2634"
      },
      "execution_count": null,
      "outputs": [
        {
          "output_type": "execute_result",
          "data": {
            "text/plain": [
              "0.8790820082153362"
            ]
          },
          "metadata": {},
          "execution_count": 11
        }
      ]
    },
    {
      "cell_type": "code",
      "source": [
        "plt.subplots(figsize=(9,5))\n",
        "plt.plot(Y_test, label= 'actual')\n",
        "plt.plot(y_pred, label= 'predicted')\n",
        "plt.title('XGboost Car Sales Prediction', size=15, y=1.02)\n",
        "plt.legend(fontsize= 12);"
      ],
      "metadata": {
        "colab": {
          "base_uri": "https://localhost:8080/",
          "height": 343
        },
        "id": "lGyOiO0SAlDc",
        "outputId": "f6b941b3-3c28-435c-910a-657b15518356"
      },
      "execution_count": null,
      "outputs": [
        {
          "output_type": "display_data",
          "data": {
            "text/plain": [
              "<Figure size 648x360 with 1 Axes>"
            ],
            "image/png": "[encoded data removed]"
          },
          "metadata": {
            "needs_background": "light"
          }
        }
      ]
    },
    {
      "cell_type": "code",
      "source": [
        "# Setup the parameters and distributions to sample from: param_dist\n",
        "param_dist = {\n",
        "    \"n_estimators\": [100, 200, 300],\n",
        "    \"learning_rate\": [0.01, 0.1, 0.2, 0.3],\n",
        "    \"max_depth\": range(3,11),\n",
        "    \"colsample_bytree\": np.arange(0.5, 1, 0.1),\n",
        "    \"subsample\": np.arange(0.6, 1, 0.1)\n",
        "    }\n",
        "\n",
        "# Instantiate a XGboost Regressor:\n",
        "xgb = XGBRegressor()\n",
        "\n",
        "# Instantiate the GridSearchCV object: tree_cv\n",
        "mlp_cv = GridSearchCV(xgb, param_dist, n_jobs=-1)\n",
        "|\n",
        "# Fit it to the data\n",
        "mlp_cv.fit(X_train,Y_train)\n",
        "\n",
        "# Print the tuned parameters and score\n",
        "print(\"Tuned XGboost Parameters: {}\".format(mlp_cv.best_params_))"
      ],
      "metadata": {
        "colab": {
          "base_uri": "https://localhost:8080/"
        },
        "id": "-wRD-Kc6Ry2m",
        "outputId": "6bb12889-4187-4b8b-9809-c648081f542f"
      },
      "execution_count": null,
      "outputs": [
        {
          "output_type": "stream",
          "name": "stdout",
          "text": [
            "[01:59:10] WARNING: /workspace/src/objective/regression_obj.cu:152: reg:linear is now deprecated in favor of reg:squarederror.\n",
            "Tuned Adaboost Parameters: {'colsample_bytree': 0.8999999999999999, 'learning_rate': 0.1, 'max_depth': 3, 'n_estimators': 100, 'subsample': 0.7}\n"
          ]
        }
      ]
    },
    {
      "cell_type": "code",
      "source": [
        "optxgb = XGBRegressor(\n",
        "    learning_rate= mlp_cv.best_params_[\"learning_rate\"],\n",
        "    n_estimators= mlp_cv.best_params_[\"n_estimators\"],\n",
        "    max_depth= mlp_cv.best_params_[\"max_depth\"],\n",
        "    colsample_bytree= mlp_cv.best_params_[\"colsample_bytree\"],\n",
        "    subsample= mlp_cv.best_params_[\"subsample\"]\n",
        ")\n",
        "optxgb.fit(X_train,Y_train)\n",
        "y_pred= optxgb.predict(X_test)\n",
        "mean_squared_error(y_pred, Y_test, squared= False)"
      ],
      "metadata": {
        "colab": {
          "base_uri": "https://localhost:8080/"
        },
        "id": "6NEPSj7-bVcc",
        "outputId": "313f0c06-75c6-4fe9-dbaf-ceca299cdc17"
      },
      "execution_count": null,
      "outputs": [
        {
          "output_type": "stream",
          "name": "stdout",
          "text": [
            "[01:59:10] WARNING: /workspace/src/objective/regression_obj.cu:152: reg:linear is now deprecated in favor of reg:squarederror.\n"
          ]
        },
        {
          "output_type": "execute_result",
          "data": {
            "text/plain": [
              "137.09240273258152"
            ]
          },
          "metadata": {},
          "execution_count": 22
        }
      ]
    },
    {
      "cell_type": "code",
      "source": [
        "plt.subplots(figsize=(9,5))\n",
        "plt.plot(Y_test, label= 'actual')\n",
        "plt.plot(y_pred, label= 'predicted')\n",
        "plt.title('Optimized XGboost Car Sales Prediction', size=15, y=1.02)\n",
        "plt.legend(fontsize= 12);"
      ],
      "metadata": {
        "colab": {
          "base_uri": "https://localhost:8080/"
        },
        "id": "RXhm1fWK7lfB",
        "outputId": "20e19fdf-3c7e-4377-947c-3806483bf9cb"
      },
      "execution_count": null,
      "outputs": [
        {
          "output_type": "display_data",
          "data": {
            "text/plain": [
              "<Figure size 648x360 with 1 Axes>"
            ],
            "image/png": "[encoded data removed]"
          },
          "metadata": {
            "needs_background": "light"
          }
        }
      ]
    }
  ]
}