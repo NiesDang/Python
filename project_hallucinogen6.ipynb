{
 "cells": [
  {
   "cell_type": "code",
   "execution_count": 1,
   "metadata": {},
   "outputs": [],
   "source": [
    "import pandas as pd\n",
    "import numpy as np\n",
    "import matplotlib.pyplot as plt\n",
    "import seaborn as sns\n",
    "from collections import Counter\n",
    "\n",
    "%matplotlib inline"
   ]
  },
  {
   "cell_type": "code",
   "execution_count": 2,
   "metadata": {},
   "outputs": [
    {
     "name": "stderr",
     "output_type": "stream",
     "text": [
      "C:\\Users\\tn09t\\AppData\\Local\\Temp\\ipykernel_2940\\3146097231.py:2: DtypeWarning: Columns (2792) have mixed types. Specify dtype option on import or set low_memory=False.\n",
      "  df21 = pd.read_csv('NSDUH_2021_Tab.csv',sep = '\t')\n"
     ]
    },
    {
     "name": "stdout",
     "output_type": "stream",
     "text": [
      "<class 'pandas.core.frame.DataFrame'>\n",
      "RangeIndex: 58034 entries, 0 to 58033\n",
      "Columns: 2988 entries, QUESTID2 to VEREP\n",
      "dtypes: float64(539), int64(2447), object(2)\n",
      "memory usage: 1.3+ GB\n"
     ]
    }
   ],
   "source": [
    "#load dataset drug\n",
    "df21 = pd.read_csv('NSDUH_2021_Tab.csv',sep = '\t')\n",
    "df21.info()"
   ]
  },
  {
   "cell_type": "code",
   "execution_count": 3,
   "metadata": {},
   "outputs": [
    {
     "name": "stderr",
     "output_type": "stream",
     "text": [
      "C:\\Users\\tn09t\\AppData\\Local\\Temp\\ipykernel_2940\\898225204.py:2: DtypeWarning: Columns (2726) have mixed types. Specify dtype option on import or set low_memory=False.\n",
      "  df20 = pd.read_csv('NSDUH_2020_Tab.csv',sep = '\t')\n"
     ]
    },
    {
     "name": "stdout",
     "output_type": "stream",
     "text": [
      "<class 'pandas.core.frame.DataFrame'>\n",
      "RangeIndex: 32893 entries, 0 to 32892\n",
      "Columns: 2890 entries, QUESTID2 to VEREP\n",
      "dtypes: float64(429), int64(2459), object(2)\n",
      "memory usage: 725.3+ MB\n"
     ]
    }
   ],
   "source": [
    "#load dataset drug\n",
    "df20 = pd.read_csv('NSDUH_2020_Tab.csv',sep = '\t')\n",
    "df20.info()"
   ]
  },
  {
   "cell_type": "code",
   "execution_count": 4,
   "metadata": {},
   "outputs": [
    {
     "name": "stderr",
     "output_type": "stream",
     "text": [
      "C:\\Users\\tn09t\\AppData\\Local\\Temp\\ipykernel_2940\\1205317429.py:1: DtypeWarning: Columns (2575) have mixed types. Specify dtype option on import or set low_memory=False.\n",
      "  df19 = pd.read_csv('NSDUH_2019_Tab.csv',sep = '\t'  )\n"
     ]
    },
    {
     "name": "stdout",
     "output_type": "stream",
     "text": [
      "<class 'pandas.core.frame.DataFrame'>\n",
      "RangeIndex: 56136 entries, 0 to 56135\n",
      "Columns: 2741 entries, QUESTID2 to VEREP\n",
      "dtypes: float64(407), int64(2332), object(2)\n",
      "memory usage: 1.1+ GB\n"
     ]
    }
   ],
   "source": [
    "df19 = pd.read_csv('NSDUH_2019_Tab.csv',sep = '\t'  )\n",
    "df19.info()"
   ]
  },
  {
   "cell_type": "code",
   "execution_count": 5,
   "metadata": {},
   "outputs": [
    {
     "name": "stderr",
     "output_type": "stream",
     "text": [
      "C:\\Users\\tn09t\\AppData\\Local\\Temp\\ipykernel_2940\\4267850300.py:1: DtypeWarning: Columns (2525) have mixed types. Specify dtype option on import or set low_memory=False.\n",
      "  df18 = pd.read_csv('NSDUH_2018_Tab.csv',sep = '\t'  )\n"
     ]
    },
    {
     "name": "stdout",
     "output_type": "stream",
     "text": [
      "<class 'pandas.core.frame.DataFrame'>\n",
      "RangeIndex: 56313 entries, 0 to 56312\n",
      "Columns: 2691 entries, QUESTID2 to VEREP\n",
      "dtypes: float64(408), int64(2281), object(2)\n",
      "memory usage: 1.1+ GB\n"
     ]
    }
   ],
   "source": [
    "df18 = pd.read_csv('NSDUH_2018_Tab.csv',sep = '\t'  )\n",
    "df18.info()"
   ]
  },
  {
   "cell_type": "code",
   "execution_count": 6,
   "metadata": {},
   "outputs": [
    {
     "name": "stderr",
     "output_type": "stream",
     "text": [
      "C:\\Users\\tn09t\\AppData\\Local\\Temp\\ipykernel_2940\\2907571387.py:1: DtypeWarning: Columns (2502) have mixed types. Specify dtype option on import or set low_memory=False.\n",
      "  df17 = pd.read_csv('NSDUH_2017_Tab.csv',sep = '\t' )\n"
     ]
    },
    {
     "name": "stdout",
     "output_type": "stream",
     "text": [
      "<class 'pandas.core.frame.DataFrame'>\n",
      "RangeIndex: 56276 entries, 0 to 56275\n",
      "Columns: 2668 entries, QUESTID2 to VEREP\n",
      "dtypes: float64(407), int64(2259), object(2)\n",
      "memory usage: 1.1+ GB\n"
     ]
    }
   ],
   "source": [
    "df17 = pd.read_csv('NSDUH_2017_Tab.csv',sep = '\t' )\n",
    "df17.info()"
   ]
  },
  {
   "cell_type": "code",
   "execution_count": 7,
   "metadata": {},
   "outputs": [
    {
     "name": "stderr",
     "output_type": "stream",
     "text": [
      "C:\\Users\\tn09t\\AppData\\Local\\Temp\\ipykernel_2940\\2161852738.py:1: DtypeWarning: Columns (2506) have mixed types. Specify dtype option on import or set low_memory=False.\n",
      "  df16 = pd.read_csv('NSDUH_2016_Tab.csv',sep = '\t' )\n"
     ]
    },
    {
     "name": "stdout",
     "output_type": "stream",
     "text": [
      "<class 'pandas.core.frame.DataFrame'>\n",
      "RangeIndex: 56897 entries, 0 to 56896\n",
      "Columns: 2668 entries, QUESTID2 to VEREP\n",
      "dtypes: float64(409), int64(2257), object(2)\n",
      "memory usage: 1.1+ GB\n"
     ]
    }
   ],
   "source": [
    "df16 = pd.read_csv('NSDUH_2016_Tab.csv',sep = '\t' )\n",
    "df16.info()"
   ]
  },
  {
   "cell_type": "code",
   "execution_count": 8,
   "metadata": {},
   "outputs": [
    {
     "name": "stderr",
     "output_type": "stream",
     "text": [
      "C:\\Users\\tn09t\\AppData\\Local\\Temp\\ipykernel_2940\\2106065787.py:1: DtypeWarning: Columns (2514) have mixed types. Specify dtype option on import or set low_memory=False.\n",
      "  df15 = pd.read_csv('NSDUH_2015_Tab.csv',sep = '\t' )\n"
     ]
    },
    {
     "name": "stdout",
     "output_type": "stream",
     "text": [
      "<class 'pandas.core.frame.DataFrame'>\n",
      "RangeIndex: 57146 entries, 0 to 57145\n",
      "Columns: 2679 entries, QUESTID2 to VEREP\n",
      "dtypes: float64(408), int64(2269), object(2)\n",
      "memory usage: 1.1+ GB\n"
     ]
    }
   ],
   "source": [
    "df15 = pd.read_csv('NSDUH_2015_Tab.csv',sep = '\t' )\n",
    "df15.info()"
   ]
  },
  {
   "cell_type": "code",
   "execution_count": 9,
   "metadata": {},
   "outputs": [
    {
     "name": "stderr",
     "output_type": "stream",
     "text": [
      "C:\\Users\\tn09t\\AppData\\Local\\Temp\\ipykernel_2940\\59712587.py:1: DtypeWarning: Columns (2946) have mixed types. Specify dtype option on import or set low_memory=False.\n",
      "  df14 = pd.read_csv('NSDUH_2014_Tab.csv',sep = '\t' )\n"
     ]
    },
    {
     "name": "stdout",
     "output_type": "stream",
     "text": [
      "<class 'pandas.core.frame.DataFrame'>\n",
      "RangeIndex: 55271 entries, 0 to 55270\n",
      "Columns: 3034 entries, QUESTID2 to VEREP\n",
      "dtypes: float64(519), int64(2513), object(2)\n",
      "memory usage: 1.2+ GB\n"
     ]
    }
   ],
   "source": [
    "df14 = pd.read_csv('NSDUH_2014_Tab.csv',sep = '\t' )\n",
    "df14.info()"
   ]
  },
  {
   "cell_type": "code",
   "execution_count": 10,
   "metadata": {},
   "outputs": [
    {
     "name": "stderr",
     "output_type": "stream",
     "text": [
      "C:\\Users\\tn09t\\AppData\\Local\\Temp\\ipykernel_2940\\500310104.py:1: DtypeWarning: Columns (2954) have mixed types. Specify dtype option on import or set low_memory=False.\n",
      "  df13 = pd.read_csv('NSDUH_2013_Tab.csv',sep = '\t' )\n"
     ]
    },
    {
     "name": "stdout",
     "output_type": "stream",
     "text": [
      "<class 'pandas.core.frame.DataFrame'>\n",
      "RangeIndex: 55160 entries, 0 to 55159\n",
      "Columns: 3040 entries, QUESTID2 to VEREP\n",
      "dtypes: float64(526), int64(2512), object(2)\n",
      "memory usage: 1.2+ GB\n"
     ]
    }
   ],
   "source": [
    "df13 = pd.read_csv('NSDUH_2013_Tab.csv',sep = '\t' )\n",
    "df13.info()"
   ]
  },
  {
   "cell_type": "code",
   "execution_count": 11,
   "metadata": {},
   "outputs": [
    {
     "name": "stderr",
     "output_type": "stream",
     "text": [
      "C:\\Users\\tn09t\\AppData\\Local\\Temp\\ipykernel_2940\\1702412959.py:1: DtypeWarning: Columns (2975) have mixed types. Specify dtype option on import or set low_memory=False.\n",
      "  df12 = pd.read_csv('NSDUH_2012_Tab.csv',sep = '\t' )\n"
     ]
    },
    {
     "name": "stdout",
     "output_type": "stream",
     "text": [
      "<class 'pandas.core.frame.DataFrame'>\n",
      "RangeIndex: 55268 entries, 0 to 55267\n",
      "Columns: 3054 entries, QUESTID2 to VEREP\n",
      "dtypes: float64(561), int64(2491), object(2)\n",
      "memory usage: 1.3+ GB\n"
     ]
    }
   ],
   "source": [
    "df12 = pd.read_csv('NSDUH_2012_Tab.csv',sep = '\t' )\n",
    "df12.info()"
   ]
  },
  {
   "cell_type": "code",
   "execution_count": 12,
   "metadata": {},
   "outputs": [
    {
     "name": "stderr",
     "output_type": "stream",
     "text": [
      "C:\\Users\\tn09t\\AppData\\Local\\Temp\\ipykernel_2940\\1177881976.py:1: DtypeWarning: Columns (2947) have mixed types. Specify dtype option on import or set low_memory=False.\n",
      "  df11 = pd.read_csv('NSDUH_2011_Tab.csv',sep = '\t' )\n"
     ]
    },
    {
     "name": "stdout",
     "output_type": "stream",
     "text": [
      "<class 'pandas.core.frame.DataFrame'>\n",
      "RangeIndex: 58397 entries, 0 to 58396\n",
      "Columns: 3026 entries, QUESTID2 to VEREP\n",
      "dtypes: float64(537), int64(2487), object(2)\n",
      "memory usage: 1.3+ GB\n"
     ]
    }
   ],
   "source": [
    "df11 = pd.read_csv('NSDUH_2011_Tab.csv',sep = '\t' )\n",
    "df11.info()"
   ]
  },
  {
   "cell_type": "code",
   "execution_count": 13,
   "metadata": {},
   "outputs": [
    {
     "name": "stdout",
     "output_type": "stream",
     "text": [
      "<class 'pandas.core.frame.DataFrame'>\n",
      "RangeIndex: 57313 entries, 0 to 57312\n",
      "Columns: 3033 entries, QUESTID2 to VEREP\n",
      "dtypes: float64(540), int64(2491), object(2)\n",
      "memory usage: 1.3+ GB\n"
     ]
    }
   ],
   "source": [
    "df10 = pd.read_csv('NSDUH_2010_Tab.csv',sep = '\t' )\n",
    "df10.info()"
   ]
  },
  {
   "cell_type": "code",
   "execution_count": 14,
   "metadata": {},
   "outputs": [],
   "source": [
    "def ageu18(x):\n",
    "   \n",
    "    if 'AGE2' in x.columns:\n",
    "        a= x[[(x['AGE2']>= 1)] and (x['AGE2']<=3)]\n",
    "    else:\n",
    "        a= x[[(x['AGE3']>= 1)] and (x['AGE3']<=3)]\n",
    "    return len(a)"
   ]
  },
  {
   "cell_type": "code",
   "execution_count": 15,
   "metadata": {},
   "outputs": [],
   "source": [
    "def ageu18pos(x,y):\n",
    "    if 'AGE2' in x.columns:\n",
    "        a= x[[(x['AGE2']>= 1)] and (x['AGE2']<=3)]\n",
    "        m= a[(a[y]==1)]\n",
    "    else:\n",
    "        a= x[[(x['AGE3']>= 1)] and (x['AGE3']<=3)]\n",
    "        m= a[(a[y]==1)]\n",
    "\n",
    "    return len(m)    "
   ]
  },
  {
   "cell_type": "code",
   "execution_count": 16,
   "metadata": {},
   "outputs": [],
   "source": [
    "def ageo18pos(x,y):\n",
    "    if 'AGE2' in x.columns:\n",
    "        a= x[[(x['AGE2']>= 3)] and (x['AGE2']<=6)]\n",
    "        m= a[(a[y]==1)]\n",
    "    else:\n",
    "        a= x[[(x['AGE3']>= 3)] and (x['AGE3']<=6)]\n",
    "        m= a[(a[y]==1)]\n",
    "\n",
    "    return len(m)   "
   ]
  },
  {
   "cell_type": "code",
   "execution_count": 17,
   "metadata": {},
   "outputs": [],
   "source": [
    "def numbero18(x):\n",
    "   \n",
    "    if 'AGE2' in x.columns:\n",
    "        a= x[[(x['AGE2']>= 1)] and (x['AGE2']<=3)]\n",
    "    else:\n",
    "        a= x[[(x['AGE3']>= 1)] and (x['AGE3']<=3)]\n",
    "    return len(a)\n",
    "    "
   ]
  },
  {
   "cell_type": "code",
   "execution_count": 18,
   "metadata": {},
   "outputs": [],
   "source": [
    "def calculate_relative_risk(exposed, exposed_positive, unexposed, unexposed_positive):\n",
    "    exposed_ratio = exposed_positive / exposed\n",
    "    #(Age2 = 1,2,3)+ meth = 1  /  age 1,2,3\n",
    "    unexposed_ratio = unexposed_positive / unexposed \n",
    "    # (Age2 = 4,5,6)+_meth =1 / age2 = 4,5,6\n",
    "    relative_risk = exposed_ratio / unexposed_ratio\n",
    "    return relative_risk"
   ]
  },
  {
   "cell_type": "code",
   "execution_count": 24,
   "metadata": {},
   "outputs": [
    {
     "data": {
      "text/plain": [
       "0.1797849462365591"
      ]
     },
     "execution_count": 24,
     "metadata": {},
     "output_type": "execute_result"
    }
   ],
   "source": [
    "calculate_relative_risk(ageu18(df19),ageu18pos(df19,'MJEVER'),numbero18(df19),ageo18pos(df19,'MJEVER'))"
   ]
  },
  {
   "cell_type": "code",
   "execution_count": 36,
   "metadata": {},
   "outputs": [
    {
     "data": {
      "image/png": "[encoded data removed]",
      "text/plain": [
       "<Figure size 640x480 with 1 Axes>"
      ]
     },
     "metadata": {},
     "output_type": "display_data"
    }
   ],
   "source": [
    "height = [calculate_relative_risk(ageu18(df10),ageu18pos(df10,'MJEVER'),numbero18(df10),ageo18pos(df10,'MJEVER')),\n",
    "calculate_relative_risk(ageu18(df11),ageu18pos(df11,'MJEVER'),numbero18(df11),ageo18pos(df11,'MJEVER')),\n",
    "calculate_relative_risk(ageu18(df12),ageu18pos(df12,'MJEVER'),numbero18(df12),ageo18pos(df12,'MJEVER')),\n",
    "calculate_relative_risk(ageu18(df13),ageu18pos(df13,'MJEVER'),numbero18(df13),ageo18pos(df13,'MJEVER')),\n",
    "calculate_relative_risk(ageu18(df14),ageu18pos(df14,'MJEVER'),numbero18(df14),ageo18pos(df14,'MJEVER')),\n",
    "calculate_relative_risk(ageu18(df15),ageu18pos(df15,'MJEVER'),numbero18(df15),ageo18pos(df15,'MJEVER')),\n",
    "calculate_relative_risk(ageu18(df16),ageu18pos(df16,'MJEVER'),numbero18(df16),ageo18pos(df16,'MJEVER')),\n",
    "calculate_relative_risk(ageu18(df17),ageu18pos(df17,'MJEVER'),numbero18(df17),ageo18pos(df17,'MJEVER')),\n",
    "calculate_relative_risk(ageu18(df18),ageu18pos(df18,'MJEVER'),numbero18(df18),ageo18pos(df18,'MJEVER')),\n",
    "calculate_relative_risk(ageu18(df19),ageu18pos(df19,'MJEVER'),numbero18(df19),ageo18pos(df19,'MJEVER')),\n",
    "calculate_relative_risk(ageu18(df20),ageu18pos(df20,'MJEVER'),numbero18(df20),ageo18pos(df20,'MJEVER')),\n",
    "calculate_relative_risk(ageu18(df21),ageu18pos(df21,'MJEVER'),numbero18(df21),ageo18pos(df21,'MJEVER'))]\n",
    "bars = ('2010','2011','2012','2013','2014','2015','2016','2017','2018','2019','2020','2021')\n",
    "y_pos = np.arange(len(bars))\n",
    "\n",
    "# Create bars\n",
    "plt.bar(y_pos, height)\n",
    "\n",
    "# Create names on the x-axis\n",
    "plt.xticks(y_pos, bars)\n",
    "plt.xlabel('Marijuana in Kids adult >18 and < 26 ', fontweight='bold', fontsize=15)\n",
    "#plt.ylabel( fontweight='bold', fontsize=15)\n",
    "\n",
    "# Show graphic\n",
    "plt.show()"
   ]
  },
  {
   "cell_type": "code",
   "execution_count": 38,
   "metadata": {},
   "outputs": [
    {
     "data": {
      "image/png": "[encoded data removed]",
      "text/plain": [
       "<Figure size 640x480 with 1 Axes>"
      ]
     },
     "metadata": {},
     "output_type": "display_data"
    }
   ],
   "source": [
    "a = 'COCEVER'\n",
    "height = [calculate_relative_risk(ageu18(df10),ageu18pos(df10,a),numbero18(df10),ageo18pos(df10,a)),\n",
    "calculate_relative_risk(ageu18(df11),ageu18pos(df11,a),numbero18(df11),ageo18pos(df11,a)),\n",
    "calculate_relative_risk(ageu18(df12),ageu18pos(df12,a),numbero18(df12),ageo18pos(df12,a)),\n",
    "calculate_relative_risk(ageu18(df13),ageu18pos(df13,a),numbero18(df13),ageo18pos(df13,a)),\n",
    "calculate_relative_risk(ageu18(df14),ageu18pos(df14,a),numbero18(df14),ageo18pos(df14,a)),\n",
    "calculate_relative_risk(ageu18(df15),ageu18pos(df15,a),numbero18(df15),ageo18pos(df15,a)),\n",
    "calculate_relative_risk(ageu18(df16),ageu18pos(df16,a),numbero18(df16),ageo18pos(df16,a)),\n",
    "calculate_relative_risk(ageu18(df17),ageu18pos(df17,a),numbero18(df17),ageo18pos(df17,a)),\n",
    "calculate_relative_risk(ageu18(df18),ageu18pos(df18,a),numbero18(df18),ageo18pos(df18,a)),\n",
    "calculate_relative_risk(ageu18(df19),ageu18pos(df19,a),numbero18(df19),ageo18pos(df19,a)),\n",
    "calculate_relative_risk(ageu18(df20),ageu18pos(df20,a),numbero18(df20),ageo18pos(df20,a)),\n",
    "calculate_relative_risk(ageu18(df21),ageu18pos(df21,a),numbero18(df21),ageo18pos(df21,a))]\n",
    "bars = ('2010','2011','2012','2013','2014','2015','2016','2017','2018','2019','2020','2021')\n",
    "y_pos = np.arange(len(bars))\n",
    "\n",
    "# Create bars\n",
    "plt.bar(y_pos, height)\n",
    "\n",
    "# Create names on the x-axis\n",
    "plt.xticks(y_pos, bars)\n",
    "plt.xlabel('Cocain in Kids adult >18 and < 26 ', fontweight='bold', fontsize=15)\n",
    "#plt.ylabel( fontweight='bold', fontsize=15)\n",
    "\n",
    "# Show graphic\n",
    "plt.show()"
   ]
  },
  {
   "cell_type": "code",
   "execution_count": 39,
   "metadata": {},
   "outputs": [
    {
     "data": {
      "image/png": "[encoded data removed]",
      "text/plain": [
       "<Figure size 640x480 with 1 Axes>"
      ]
     },
     "metadata": {},
     "output_type": "display_data"
    }
   ],
   "source": [
    "\n",
    "a = 'METHAMFLAG'\n",
    "height = [calculate_relative_risk(ageu18(df15),ageu18pos(df15,a),numbero18(df15),ageo18pos(df15,a)),\n",
    "calculate_relative_risk(ageu18(df16),ageu18pos(df16,a),numbero18(df16),ageo18pos(df16,a)),\n",
    "calculate_relative_risk(ageu18(df17),ageu18pos(df17,a),numbero18(df17),ageo18pos(df17,a)),\n",
    "calculate_relative_risk(ageu18(df18),ageu18pos(df18,a),numbero18(df18),ageo18pos(df18,a)),\n",
    "calculate_relative_risk(ageu18(df19),ageu18pos(df19,a),numbero18(df19),ageo18pos(df19,a)),\n",
    "calculate_relative_risk(ageu18(df20),ageu18pos(df20,a),numbero18(df20),ageo18pos(df20,a)),\n",
    "calculate_relative_risk(ageu18(df21),ageu18pos(df21,a),numbero18(df21),ageo18pos(df21,a))]\n",
    "bars = ('2015','2016','2017','2018','2019','2020','2021')\n",
    "y_pos = np.arange(len(bars))\n",
    "\n",
    "# Create bars\n",
    "plt.bar(y_pos, height)\n",
    "\n",
    "# Create names on the x-axis\n",
    "plt.xticks(y_pos, bars)\n",
    "plt.xlabel('Methaphetamine in Kids adult >18 and < 26 ', fontweight='bold', fontsize=15)\n",
    "#plt.ylabel( fontweight='bold', fontsize=15)\n",
    "\n",
    "# Show graphic\n",
    "plt.show()"
   ]
  },
  {
   "cell_type": "code",
   "execution_count": 40,
   "metadata": {},
   "outputs": [
    {
     "data": {
      "image/png": "[encoded data removed]",
      "text/plain": [
       "<Figure size 640x480 with 1 Axes>"
      ]
     },
     "metadata": {},
     "output_type": "display_data"
    }
   ],
   "source": [
    "\n",
    "a = 'LSD'\n",
    "height = [calculate_relative_risk(ageu18(df15),ageu18pos(df15,a),numbero18(df15),ageo18pos(df15,a)),\n",
    "calculate_relative_risk(ageu18(df16),ageu18pos(df16,a),numbero18(df16),ageo18pos(df16,a)),\n",
    "calculate_relative_risk(ageu18(df17),ageu18pos(df17,a),numbero18(df17),ageo18pos(df17,a)),\n",
    "calculate_relative_risk(ageu18(df18),ageu18pos(df18,a),numbero18(df18),ageo18pos(df18,a)),\n",
    "calculate_relative_risk(ageu18(df19),ageu18pos(df19,a),numbero18(df19),ageo18pos(df19,a)),\n",
    "calculate_relative_risk(ageu18(df20),ageu18pos(df20,a),numbero18(df20),ageo18pos(df20,a)),\n",
    "calculate_relative_risk(ageu18(df21),ageu18pos(df21,a),numbero18(df21),ageo18pos(df21,a))]\n",
    "bars = ('2015','2016','2017','2018','2019','2020','2021')\n",
    "y_pos = np.arange(len(bars))\n",
    "\n",
    "# Create bars\n",
    "plt.bar(y_pos, height)\n",
    "\n",
    "# Create names on the x-axis\n",
    "plt.xticks(y_pos, bars)\n",
    "plt.xlabel('Methaphetamine in Kids adult >18 and < 26 ', fontweight='bold', fontsize=15)\n",
    "#plt.ylabel( fontweight='bold', fontsize=15)\n",
    "\n",
    "# Show graphic\n",
    "plt.show()"
   ]
  },
  {
   "cell_type": "code",
   "execution_count": 41,
   "metadata": {},
   "outputs": [
    {
     "data": {
      "image/png": "[encoded data removed]",
      "text/plain": [
       "<Figure size 640x480 with 1 Axes>"
      ]
     },
     "metadata": {},
     "output_type": "display_data"
    }
   ],
   "source": [
    "a = 'PSILCY'\n",
    "height = [calculate_relative_risk(ageu18(df10),ageu18pos(df10,a),numbero18(df10),ageo18pos(df10,a)),\n",
    "calculate_relative_risk(ageu18(df11),ageu18pos(df11,a),numbero18(df11),ageo18pos(df11,a)),\n",
    "calculate_relative_risk(ageu18(df12),ageu18pos(df12,a),numbero18(df12),ageo18pos(df12,a)),\n",
    "calculate_relative_risk(ageu18(df13),ageu18pos(df13,a),numbero18(df13),ageo18pos(df13,a)),\n",
    "calculate_relative_risk(ageu18(df14),ageu18pos(df14,a),numbero18(df14),ageo18pos(df14,a)),\n",
    "calculate_relative_risk(ageu18(df15),ageu18pos(df15,a),numbero18(df15),ageo18pos(df15,a)),\n",
    "calculate_relative_risk(ageu18(df16),ageu18pos(df16,a),numbero18(df16),ageo18pos(df16,a)),\n",
    "calculate_relative_risk(ageu18(df17),ageu18pos(df17,a),numbero18(df17),ageo18pos(df17,a)),\n",
    "calculate_relative_risk(ageu18(df18),ageu18pos(df18,a),numbero18(df18),ageo18pos(df18,a)),\n",
    "calculate_relative_risk(ageu18(df19),ageu18pos(df19,a),numbero18(df19),ageo18pos(df19,a)),\n",
    "calculate_relative_risk(ageu18(df20),ageu18pos(df20,a),numbero18(df20),ageo18pos(df20,a)),\n",
    "calculate_relative_risk(ageu18(df21),ageu18pos(df21,a),numbero18(df21),ageo18pos(df21,a))]\n",
    "bars = ('2010','2011','2012','2013','2014','2015','2016','2017','2018','2019','2020','2021')\n",
    "y_pos = np.arange(len(bars))\n",
    "\n",
    "# Create bars\n",
    "plt.bar(y_pos, height)\n",
    "\n",
    "# Create names on the x-axis\n",
    "plt.xticks(y_pos, bars)\n",
    "plt.xlabel('Cocain in Kids adult >18 and < 26 ', fontweight='bold', fontsize=15)\n",
    "#plt.ylabel( fontweight='bold', fontsize=15)\n",
    "\n",
    "# Show graphic\n",
    "plt.show()"
   ]
  },
  {
   "cell_type": "code",
   "execution_count": null,
   "metadata": {},
   "outputs": [],
   "source": [
    "#To draw a conclusion based on the calculated risk ratio, you need to compare it to a reference value, such as 1.0, and consider the context of your study. \n",
    "# Here are some general guidelines for interpreting risk ratios:\n",
    "#Risk Ratio (RR) > 1.0: If the risk ratio is greater than 1.0, it indicates that the exposed group has a higher risk of the outcome compared to the unexposed group.\n",
    "#  This suggests a positive association between the exposure and the outcome.\n",
    "\n",
    "#Risk Ratio (RR) = 1.0: If the risk ratio is equal to 1.0, it means there is no difference in risk between the exposed and unexposed groups. \n",
    "# This suggests no association between the exposure and the outcome.\n",
    "\n",
    "#Risk Ratio (RR) < 1.0: If the risk ratio is less than 1.0, it indicates that the exposed group has a lower risk of the outcome compared to the unexposed group. \n",
    "# This suggests a potential protective effect of the exposure on the outcome.\n",
    "\n",
    "#Keep in mind that the interpretation of the risk ratio should be done in the context of your specific study and domain knowledge. \n",
    "# Additionally, it's important to consider factors such as sample size, confidence intervals, and statistical significance when drawing conclusions about the \n",
    "# relationship between exposure and outcome.\n",
    "\n",
    "#Based on the calculated risk ratio, you can state whether there is evidence of an association between the exposure and outcome and the direction of that \n",
    "# association (higher risk, no difference, or lower risk)."
   ]
  }
 ],
 "metadata": {
  "kernelspec": {
   "display_name": "base",
   "language": "python",
   "name": "python3"
  },
  "language_info": {
   "codemirror_mode": {
    "name": "ipython",
    "version": 3
   },
   "file_extension": ".py",
   "mimetype": "text/x-python",
   "name": "python",
   "nbconvert_exporter": "python",
   "pygments_lexer": "ipython3",
   "version": "3.10.9"
  },
  "orig_nbformat": 4
 },
 "nbformat": 4,
 "nbformat_minor": 2
}
